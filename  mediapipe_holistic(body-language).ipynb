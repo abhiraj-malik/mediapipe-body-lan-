{
 "cells": [
  {
   "cell_type": "code",
   "execution_count": 1,
   "id": "9de0f14f",
   "metadata": {},
   "outputs": [
    {
     "name": "stdout",
     "output_type": "stream",
     "text": [
      "Collecting mediapipe\n",
      "  Downloading mediapipe-0.10.1-cp311-cp311-win_amd64.whl (50.2 MB)\n",
      "     ---------------------------------------- 50.2/50.2 MB 2.4 MB/s eta 0:00:00\n",
      "Collecting opencv-python\n",
      "  Using cached opencv_python-4.7.0.72-cp37-abi3-win_amd64.whl (38.2 MB)\n",
      "Collecting pandas\n",
      "  Using cached pandas-2.0.2-cp311-cp311-win_amd64.whl (10.6 MB)\n",
      "Collecting scikit-learn\n",
      "  Using cached scikit_learn-1.2.2-cp311-cp311-win_amd64.whl (8.3 MB)\n",
      "Collecting absl-py\n",
      "  Using cached absl_py-1.4.0-py3-none-any.whl (126 kB)\n",
      "Requirement already satisfied: attrs>=19.1.0 in c:\\users\\abhiraj\\desktop\\mediapipe\\ss\\lib\\site-packages (from mediapipe) (23.1.0)\n",
      "Collecting flatbuffers>=2.0\n",
      "  Using cached flatbuffers-23.5.26-py2.py3-none-any.whl (26 kB)\n",
      "Collecting matplotlib\n",
      "  Using cached matplotlib-3.7.1-cp311-cp311-win_amd64.whl (7.6 MB)\n",
      "Collecting numpy\n",
      "  Using cached numpy-1.24.3-cp311-cp311-win_amd64.whl (14.8 MB)\n",
      "Collecting opencv-contrib-python\n",
      "  Downloading opencv_contrib_python-4.7.0.72-cp37-abi3-win_amd64.whl (44.9 MB)\n",
      "     ---------------------------------------- 44.9/44.9 MB 3.5 MB/s eta 0:00:00\n",
      "Collecting protobuf<4,>=3.11\n",
      "  Using cached protobuf-3.20.3-py2.py3-none-any.whl (162 kB)\n",
      "Collecting sounddevice>=0.4.4\n",
      "  Downloading sounddevice-0.4.6-py3-none-win_amd64.whl (199 kB)\n",
      "     -------------------------------------- 199.7/199.7 kB 3.0 MB/s eta 0:00:00\n",
      "Requirement already satisfied: python-dateutil>=2.8.2 in c:\\users\\abhiraj\\desktop\\mediapipe\\ss\\lib\\site-packages (from pandas) (2.8.2)\n",
      "Collecting pytz>=2020.1\n",
      "  Using cached pytz-2023.3-py2.py3-none-any.whl (502 kB)\n",
      "Collecting tzdata>=2022.1\n",
      "  Using cached tzdata-2023.3-py2.py3-none-any.whl (341 kB)\n",
      "Collecting scipy>=1.3.2\n",
      "  Using cached scipy-1.10.1-cp311-cp311-win_amd64.whl (42.2 MB)\n",
      "Collecting joblib>=1.1.1\n",
      "  Using cached joblib-1.2.0-py3-none-any.whl (297 kB)\n",
      "Collecting threadpoolctl>=2.0.0\n",
      "  Using cached threadpoolctl-3.1.0-py3-none-any.whl (14 kB)\n",
      "Requirement already satisfied: six>=1.5 in c:\\users\\abhiraj\\desktop\\mediapipe\\ss\\lib\\site-packages (from python-dateutil>=2.8.2->pandas) (1.16.0)\n",
      "Requirement already satisfied: CFFI>=1.0 in c:\\users\\abhiraj\\desktop\\mediapipe\\ss\\lib\\site-packages (from sounddevice>=0.4.4->mediapipe) (1.15.1)\n",
      "Collecting contourpy>=1.0.1\n",
      "  Downloading contourpy-1.1.0-cp311-cp311-win_amd64.whl (470 kB)\n",
      "     -------------------------------------- 470.9/470.9 kB 2.9 MB/s eta 0:00:00\n",
      "Collecting cycler>=0.10\n",
      "  Using cached cycler-0.11.0-py3-none-any.whl (6.4 kB)\n",
      "Collecting fonttools>=4.22.0\n",
      "  Using cached fonttools-4.40.0-cp311-cp311-win_amd64.whl (1.9 MB)\n",
      "Collecting kiwisolver>=1.0.1\n",
      "  Using cached kiwisolver-1.4.4-cp311-cp311-win_amd64.whl (55 kB)\n",
      "Requirement already satisfied: packaging>=20.0 in c:\\users\\abhiraj\\desktop\\mediapipe\\ss\\lib\\site-packages (from matplotlib->mediapipe) (23.1)\n",
      "Collecting pillow>=6.2.0\n",
      "  Using cached Pillow-9.5.0-cp311-cp311-win_amd64.whl (2.5 MB)\n",
      "Collecting pyparsing>=2.3.1\n",
      "  Using cached pyparsing-3.0.9-py3-none-any.whl (98 kB)\n",
      "Requirement already satisfied: pycparser in c:\\users\\abhiraj\\desktop\\mediapipe\\ss\\lib\\site-packages (from CFFI>=1.0->sounddevice>=0.4.4->mediapipe) (2.21)\n",
      "Installing collected packages: pytz, flatbuffers, tzdata, threadpoolctl, pyparsing, protobuf, pillow, numpy, kiwisolver, joblib, fonttools, cycler, absl-py, sounddevice, scipy, pandas, opencv-python, opencv-contrib-python, contourpy, scikit-learn, matplotlib, mediapipe\n",
      "Successfully installed absl-py-1.4.0 contourpy-1.1.0 cycler-0.11.0 flatbuffers-23.5.26 fonttools-4.40.0 joblib-1.2.0 kiwisolver-1.4.4 matplotlib-3.7.1 mediapipe-0.10.1 numpy-1.24.3 opencv-contrib-python-4.7.0.72 opencv-python-4.7.0.72 pandas-2.0.2 pillow-9.5.0 protobuf-3.20.3 pyparsing-3.0.9 pytz-2023.3 scikit-learn-1.2.2 scipy-1.10.1 sounddevice-0.4.6 threadpoolctl-3.1.0 tzdata-2023.3\n"
     ]
    },
    {
     "name": "stderr",
     "output_type": "stream",
     "text": [
      "\n",
      "[notice] A new release of pip available: 22.3.1 -> 23.1.2\n",
      "[notice] To update, run: python.exe -m pip install --upgrade pip\n"
     ]
    }
   ],
   "source": [
    "!pip install mediapipe opencv-python pandas scikit-learn "
   ]
  },
  {
   "cell_type": "code",
   "execution_count": 3,
   "id": "b2c7d35a",
   "metadata": {},
   "outputs": [
    {
     "name": "stdout",
     "output_type": "stream",
     "text": [
      "Requirement already satisfied: pip in c:\\users\\abhiraj\\desktop\\mediapipe\\ss\\lib\\site-packages (22.3.1)\n",
      "Collecting pip\n",
      "  Using cached pip-23.1.2-py3-none-any.whl (2.1 MB)\n",
      "Installing collected packages: pip\n",
      "  Attempting uninstall: pip\n",
      "    Found existing installation: pip 22.3.1\n",
      "    Uninstalling pip-22.3.1:\n",
      "      Successfully uninstalled pip-22.3.1\n",
      "Successfully installed pip-23.1.2\n"
     ]
    }
   ],
   "source": [
    " !python.exe -m pip install --upgrade pip"
   ]
  },
  {
   "cell_type": "code",
   "execution_count": null,
   "id": "d5260abf",
   "metadata": {},
   "outputs": [],
   "source": []
  },
  {
   "cell_type": "code",
   "execution_count": 4,
   "id": "b20ea3d2",
   "metadata": {},
   "outputs": [],
   "source": [
    "import mediapipe as mp\n",
    "import cv2"
   ]
  },
  {
   "cell_type": "code",
   "execution_count": 6,
   "id": "b6c62742",
   "metadata": {},
   "outputs": [],
   "source": [
    "mp_drawing = mp.solutions.drawing_utils\n",
    "mp_holistic = mp.solutions.holistic"
   ]
  },
  {
   "cell_type": "code",
   "execution_count": 24,
   "id": "3bfe6914",
   "metadata": {},
   "outputs": [],
   "source": [
    "mp_drawing.DrawingSpec??"
   ]
  },
  {
   "cell_type": "code",
   "execution_count": 22,
   "id": "045754ce",
   "metadata": {},
   "outputs": [],
   "source": [
    "cap = cv2.VideoCapture(0)\n",
    "with mp_holistic.Holistic(min_detection_confidence=0.5, min_tracking_confidence=0.5) as holistic:\n",
    "    while cap.isOpened():\n",
    "        ret, frame = cap.read()\n",
    "        image = cv2.cvtColor(frame, cv2.COLOR_BGR2RGB)\n",
    "        results = holistic.process(image)\n",
    "        \n",
    "        \n",
    "        image =  cv2.cvtColor(frame, cv2.COLOR_BGR2RGB)\n",
    "        mp_drawing.draw_landmarks(image, results.face_landmarks, mp_holistic.FACEMESH_CONTOURS)\n",
    "        mp_drawing.draw_landmarks(image, results.right_hand_landmarks, mp_holistic.HAND_CONNECTIONS)\n",
    "        mp_drawing.draw_landmarks(image, results.left_hand_landmarks, mp_holistic.HAND_CONNECTIONS)\n",
    "        mp_drawing.draw_landmarks(image, results.pose_landmarks, mp_holistic.POSE_CONNECTIONS)\n",
    "        \n",
    "        cv2.imshow('wir bauen maschinen', image)\n",
    "        \n",
    "        if cv2.waitKey(10) & 0xff == ord('q'):\n",
    "            break\n",
    "            \n",
    "cap.release()\n",
    "cv2.destroyAllWindows()\n",
    "        \n",
    "        \n",
    "    "
   ]
  },
  {
   "cell_type": "code",
   "execution_count": 37,
   "id": "21601866",
   "metadata": {},
   "outputs": [],
   "source": [
    "coord_nums = len(results.pose_landmarks.landmark) + len(results.face_landmarks.landmark)"
   ]
  },
  {
   "cell_type": "code",
   "execution_count": 38,
   "id": "0167b96d",
   "metadata": {},
   "outputs": [
    {
     "data": {
      "text/plain": [
       "501"
      ]
     },
     "execution_count": 38,
     "metadata": {},
     "output_type": "execute_result"
    }
   ],
   "source": [
    "coord_nums"
   ]
  },
  {
   "cell_type": "code",
   "execution_count": 44,
   "id": "bf8fb24e",
   "metadata": {},
   "outputs": [],
   "source": [
    "landmarks = ['class']\n",
    "for val in range(1, coord_nums+1):\n",
    "    landmarks += ['x{}'.format(val), 'y{}'.format(val), 'z{}'.format(val), 'v{}'.format(val)]"
   ]
  },
  {
   "cell_type": "code",
   "execution_count": 39,
   "id": "87816d1f",
   "metadata": {},
   "outputs": [],
   "source": [
    "import csv\n",
    "import numpy as np\n",
    "import os"
   ]
  },
  {
   "cell_type": "code",
   "execution_count": 46,
   "id": "7131873b",
   "metadata": {},
   "outputs": [],
   "source": [
    "with open('coord.csv', mode='w', newline='') as f:\n",
    "    csv_writer = csv.writer(f, delimiter=',', quotechar='\"', quoting=csv.QUOTE_MINIMAL)\n",
    "    csv_writer.writerow(landmarks)"
   ]
  },
  {
   "cell_type": "code",
   "execution_count": 54,
   "id": "e102c016",
   "metadata": {},
   "outputs": [
    {
     "data": {
      "text/plain": [
       "[x: 0.53773713\n",
       "y: 0.56793517\n",
       "z: -0.9707551\n",
       "visibility: 0.9653543\n",
       ", x: 0.55956787\n",
       "y: 0.52135295\n",
       "z: -0.91641855\n",
       "visibility: 0.9545516\n",
       ", x: 0.57796866\n",
       "y: 0.5238883\n",
       "z: -0.9162793\n",
       "visibility: 0.95293146\n",
       ", x: 0.59547913\n",
       "y: 0.5268913\n",
       "z: -0.91642034\n",
       "visibility: 0.9490321\n",
       ", x: 0.5108367\n",
       "y: 0.520998\n",
       "z: -0.91220033\n",
       "visibility: 0.9615721\n",
       ", x: 0.49547443\n",
       "y: 0.5226518\n",
       "z: -0.9109667\n",
       "visibility: 0.9635435\n",
       ", x: 0.48089314\n",
       "y: 0.52417886\n",
       "z: -0.9112679\n",
       "visibility: 0.9659767\n",
       ", x: 0.6125258\n",
       "y: 0.55798274\n",
       "z: -0.5458663\n",
       "visibility: 0.9455141\n",
       ", x: 0.4501218\n",
       "y: 0.5640531\n",
       "z: -0.5054594\n",
       "visibility: 0.9685951\n",
       ", x: 0.57185256\n",
       "y: 0.65752393\n",
       "z: -0.8311375\n",
       "visibility: 0.94678026\n",
       ", x: 0.5050547\n",
       "y: 0.6495017\n",
       "z: -0.82008123\n",
       "visibility: 0.9578886\n",
       ", x: 0.7558688\n",
       "y: 0.874069\n",
       "z: -0.3521868\n",
       "visibility: 0.8939094\n",
       ", x: 0.30342808\n",
       "y: 0.9129871\n",
       "z: -0.31916732\n",
       "visibility: 0.9414732\n",
       ", x: 0.8995474\n",
       "y: 1.2573085\n",
       "z: -0.38821298\n",
       "visibility: 0.1991933\n",
       ", x: 0.22478406\n",
       "y: 1.3509053\n",
       "z: -0.33381736\n",
       "visibility: 0.39849237\n",
       ", x: 0.89530486\n",
       "y: 1.5539646\n",
       "z: -0.75438946\n",
       "visibility: 0.1010641\n",
       ", x: 0.23255897\n",
       "y: 1.6481414\n",
       "z: -0.86189806\n",
       "visibility: 0.23132743\n",
       ", x: 0.9273856\n",
       "y: 1.6584297\n",
       "z: -0.87697345\n",
       "visibility: 0.121834084\n",
       ", x: 0.20995906\n",
       "y: 1.7545348\n",
       "z: -0.98510885\n",
       "visibility: 0.26561257\n",
       ", x: 0.8765117\n",
       "y: 1.6583067\n",
       "z: -0.9251751\n",
       "visibility: 0.15920493\n",
       ", x: 0.2530684\n",
       "y: 1.7407539\n",
       "z: -1.0692778\n",
       "visibility: 0.3360462\n",
       ", x: 0.8529149\n",
       "y: 1.6231239\n",
       "z: -0.79468286\n",
       "visibility: 0.15579782\n",
       ", x: 0.27131218\n",
       "y: 1.7017435\n",
       "z: -0.91304636\n",
       "visibility: 0.32011795\n",
       ", x: 0.6832881\n",
       "y: 1.6210331\n",
       "z: -0.08972262\n",
       "visibility: 0.0412223\n",
       ", x: 0.3887702\n",
       "y: 1.6439493\n",
       "z: 0.09184975\n",
       "visibility: 0.04332791\n",
       ", x: 0.69077957\n",
       "y: 2.2505527\n",
       "z: 0.005506332\n",
       "visibility: 0.057051912\n",
       ", x: 0.4284134\n",
       "y: 2.2617528\n",
       "z: 0.14363596\n",
       "visibility: 0.029771747\n",
       ", x: 0.7061664\n",
       "y: 2.7873042\n",
       "z: 0.6910753\n",
       "visibility: 0.028138684\n",
       ", x: 0.45299333\n",
       "y: 2.785579\n",
       "z: 0.6961955\n",
       "visibility: 0.014636988\n",
       ", x: 0.7134484\n",
       "y: 2.8750353\n",
       "z: 0.7240047\n",
       "visibility: 0.027139816\n",
       ", x: 0.44861656\n",
       "y: 2.8707168\n",
       "z: 0.7348061\n",
       "visibility: 0.019790323\n",
       ", x: 0.67009944\n",
       "y: 2.9563487\n",
       "z: 0.118296586\n",
       "visibility: 0.028383361\n",
       ", x: 0.5047233\n",
       "y: 2.9488366\n",
       "z: 0.09037435\n",
       "visibility: 0.017551845\n",
       "]"
      ]
     },
     "execution_count": 54,
     "metadata": {},
     "output_type": "execute_result"
    }
   ],
   "source": [
    " results.pose_landmarks.landmark\n"
   ]
  },
  {
   "cell_type": "code",
   "execution_count": 61,
   "id": "3b416857",
   "metadata": {},
   "outputs": [],
   "source": [
    "class_name = 'Victory'"
   ]
  },
  {
   "cell_type": "code",
   "execution_count": 62,
   "id": "b8ec601e",
   "metadata": {},
   "outputs": [],
   "source": [
    "cap = cv2.VideoCapture(0)\n",
    "with mp_holistic.Holistic(min_detection_confidence=0.5, min_tracking_confidence=0.5) as holistic:\n",
    "    while cap.isOpened():\n",
    "        ret, frame = cap.read()\n",
    "        image = cv2.cvtColor(frame, cv2.COLOR_BGR2RGB)\n",
    "        results = holistic.process(image)\n",
    "        \n",
    "        \n",
    "        image =  cv2.cvtColor(frame, cv2.COLOR_BGR2RGB)\n",
    "        mp_drawing.draw_landmarks(image, results.face_landmarks, mp_holistic.FACEMESH_CONTOURS)\n",
    "        mp_drawing.draw_landmarks(image, results.right_hand_landmarks, mp_holistic.HAND_CONNECTIONS)\n",
    "        mp_drawing.draw_landmarks(image, results.left_hand_landmarks, mp_holistic.HAND_CONNECTIONS)\n",
    "        mp_drawing.draw_landmarks(image, results.pose_landmarks, mp_holistic.POSE_CONNECTIONS)\n",
    "        \n",
    "        \n",
    "        try:\n",
    "            pose = results.pose_landmarks.landmark\n",
    "            pose_row = list(np.array([[landmark.x, landmark.y, landmark.z, landmark.visibility] for landmark in pose]).flatten())\n",
    "            \n",
    "            face = results.face_landmarks.landmark\n",
    "            face_row = list(np.array([[landmark.x, landmark.y, landmark.z, landmark.visibility] for landmark in face]).flatten())\n",
    "            \n",
    "            row = face_row + pose_row\n",
    "            row.insert(0, class_name)\n",
    "            \n",
    "             with open('coord.csv', mode='a', newline='') as f:\n",
    "                csv_writer = csv.writer(f, delimiter=',', quotechar='\"', quoting=csv.QUOTE_MINIMAL)\n",
    "                csv_writer.writerow(row)\n",
    "        \n",
    "        \n",
    "        except:\n",
    "            pass\n",
    "        \n",
    "        \n",
    "        cv2.imshow('wir bauen maschinen', image)\n",
    "        \n",
    "        if cv2.waitKey(10) & 0xff == ord('q'):\n",
    "            break\n",
    "            \n",
    "cap.release()\n",
    "cv2.destroyAllWindows()"
   ]
  },
  {
   "cell_type": "code",
   "execution_count": 63,
   "id": "b8dfcb35",
   "metadata": {},
   "outputs": [],
   "source": [
    "import  pandas as pd"
   ]
  },
  {
   "cell_type": "code",
   "execution_count": 65,
   "id": "1f163080",
   "metadata": {},
   "outputs": [],
   "source": [
    "df = pd.read_csv('coord.csv')"
   ]
  },
  {
   "cell_type": "code",
   "execution_count": 79,
   "id": "f2bceb43",
   "metadata": {},
   "outputs": [
    {
     "data": {
      "text/html": [
       "<div>\n",
       "<style scoped>\n",
       "    .dataframe tbody tr th:only-of-type {\n",
       "        vertical-align: middle;\n",
       "    }\n",
       "\n",
       "    .dataframe tbody tr th {\n",
       "        vertical-align: top;\n",
       "    }\n",
       "\n",
       "    .dataframe thead th {\n",
       "        text-align: right;\n",
       "    }\n",
       "</style>\n",
       "<table border=\"1\" class=\"dataframe\">\n",
       "  <thead>\n",
       "    <tr style=\"text-align: right;\">\n",
       "      <th></th>\n",
       "      <th>class</th>\n",
       "      <th>x1</th>\n",
       "      <th>y1</th>\n",
       "      <th>z1</th>\n",
       "      <th>v1</th>\n",
       "      <th>x2</th>\n",
       "      <th>y2</th>\n",
       "      <th>z2</th>\n",
       "      <th>v2</th>\n",
       "      <th>x3</th>\n",
       "      <th>...</th>\n",
       "      <th>z499</th>\n",
       "      <th>v499</th>\n",
       "      <th>x500</th>\n",
       "      <th>y500</th>\n",
       "      <th>z500</th>\n",
       "      <th>v500</th>\n",
       "      <th>x501</th>\n",
       "      <th>y501</th>\n",
       "      <th>z501</th>\n",
       "      <th>v501</th>\n",
       "    </tr>\n",
       "  </thead>\n",
       "  <tbody>\n",
       "    <tr>\n",
       "      <th>0</th>\n",
       "      <td>Happy</td>\n",
       "      <td>0.547131</td>\n",
       "      <td>0.724928</td>\n",
       "      <td>-0.028416</td>\n",
       "      <td>0.0</td>\n",
       "      <td>0.544718</td>\n",
       "      <td>0.678283</td>\n",
       "      <td>-0.050843</td>\n",
       "      <td>0.0</td>\n",
       "      <td>0.544747</td>\n",
       "      <td>...</td>\n",
       "      <td>0.202666</td>\n",
       "      <td>0.000002</td>\n",
       "      <td>0.649465</td>\n",
       "      <td>3.068984</td>\n",
       "      <td>-0.164984</td>\n",
       "      <td>0.000032</td>\n",
       "      <td>0.470089</td>\n",
       "      <td>3.057953</td>\n",
       "      <td>-0.393611</td>\n",
       "      <td>0.000010</td>\n",
       "    </tr>\n",
       "    <tr>\n",
       "      <th>1</th>\n",
       "      <td>Happy</td>\n",
       "      <td>0.549883</td>\n",
       "      <td>0.722531</td>\n",
       "      <td>-0.030778</td>\n",
       "      <td>0.0</td>\n",
       "      <td>0.548051</td>\n",
       "      <td>0.674411</td>\n",
       "      <td>-0.052304</td>\n",
       "      <td>0.0</td>\n",
       "      <td>0.547792</td>\n",
       "      <td>...</td>\n",
       "      <td>0.212661</td>\n",
       "      <td>0.000004</td>\n",
       "      <td>0.657304</td>\n",
       "      <td>3.105280</td>\n",
       "      <td>-0.169141</td>\n",
       "      <td>0.000038</td>\n",
       "      <td>0.474488</td>\n",
       "      <td>3.081895</td>\n",
       "      <td>-0.439254</td>\n",
       "      <td>0.000017</td>\n",
       "    </tr>\n",
       "    <tr>\n",
       "      <th>2</th>\n",
       "      <td>Happy</td>\n",
       "      <td>0.549482</td>\n",
       "      <td>0.723379</td>\n",
       "      <td>-0.029957</td>\n",
       "      <td>0.0</td>\n",
       "      <td>0.547660</td>\n",
       "      <td>0.675722</td>\n",
       "      <td>-0.052029</td>\n",
       "      <td>0.0</td>\n",
       "      <td>0.547431</td>\n",
       "      <td>...</td>\n",
       "      <td>0.342310</td>\n",
       "      <td>0.000006</td>\n",
       "      <td>0.656353</td>\n",
       "      <td>3.122153</td>\n",
       "      <td>-0.082582</td>\n",
       "      <td>0.000042</td>\n",
       "      <td>0.473713</td>\n",
       "      <td>3.095768</td>\n",
       "      <td>-0.336436</td>\n",
       "      <td>0.000021</td>\n",
       "    </tr>\n",
       "    <tr>\n",
       "      <th>3</th>\n",
       "      <td>Happy</td>\n",
       "      <td>0.550207</td>\n",
       "      <td>0.722998</td>\n",
       "      <td>-0.030176</td>\n",
       "      <td>0.0</td>\n",
       "      <td>0.548378</td>\n",
       "      <td>0.675400</td>\n",
       "      <td>-0.052412</td>\n",
       "      <td>0.0</td>\n",
       "      <td>0.548038</td>\n",
       "      <td>...</td>\n",
       "      <td>0.306131</td>\n",
       "      <td>0.000008</td>\n",
       "      <td>0.657192</td>\n",
       "      <td>3.123646</td>\n",
       "      <td>-0.100293</td>\n",
       "      <td>0.000048</td>\n",
       "      <td>0.475507</td>\n",
       "      <td>3.097245</td>\n",
       "      <td>-0.340493</td>\n",
       "      <td>0.000026</td>\n",
       "    </tr>\n",
       "    <tr>\n",
       "      <th>4</th>\n",
       "      <td>Happy</td>\n",
       "      <td>0.550555</td>\n",
       "      <td>0.723170</td>\n",
       "      <td>-0.030180</td>\n",
       "      <td>0.0</td>\n",
       "      <td>0.548819</td>\n",
       "      <td>0.675114</td>\n",
       "      <td>-0.052538</td>\n",
       "      <td>0.0</td>\n",
       "      <td>0.548441</td>\n",
       "      <td>...</td>\n",
       "      <td>0.479969</td>\n",
       "      <td>0.000010</td>\n",
       "      <td>0.657317</td>\n",
       "      <td>3.137843</td>\n",
       "      <td>0.007543</td>\n",
       "      <td>0.000052</td>\n",
       "      <td>0.476645</td>\n",
       "      <td>3.116708</td>\n",
       "      <td>-0.191758</td>\n",
       "      <td>0.000030</td>\n",
       "    </tr>\n",
       "    <tr>\n",
       "      <th>...</th>\n",
       "      <td>...</td>\n",
       "      <td>...</td>\n",
       "      <td>...</td>\n",
       "      <td>...</td>\n",
       "      <td>...</td>\n",
       "      <td>...</td>\n",
       "      <td>...</td>\n",
       "      <td>...</td>\n",
       "      <td>...</td>\n",
       "      <td>...</td>\n",
       "      <td>...</td>\n",
       "      <td>...</td>\n",
       "      <td>...</td>\n",
       "      <td>...</td>\n",
       "      <td>...</td>\n",
       "      <td>...</td>\n",
       "      <td>...</td>\n",
       "      <td>...</td>\n",
       "      <td>...</td>\n",
       "      <td>...</td>\n",
       "      <td>...</td>\n",
       "    </tr>\n",
       "    <tr>\n",
       "      <th>379</th>\n",
       "      <td>Victory</td>\n",
       "      <td>0.551168</td>\n",
       "      <td>0.820503</td>\n",
       "      <td>-0.027043</td>\n",
       "      <td>0.0</td>\n",
       "      <td>0.548069</td>\n",
       "      <td>0.774930</td>\n",
       "      <td>-0.052332</td>\n",
       "      <td>0.0</td>\n",
       "      <td>0.548617</td>\n",
       "      <td>...</td>\n",
       "      <td>0.329795</td>\n",
       "      <td>0.001062</td>\n",
       "      <td>0.722219</td>\n",
       "      <td>3.337527</td>\n",
       "      <td>-0.322938</td>\n",
       "      <td>0.001010</td>\n",
       "      <td>0.520622</td>\n",
       "      <td>3.337428</td>\n",
       "      <td>-0.350937</td>\n",
       "      <td>0.001136</td>\n",
       "    </tr>\n",
       "    <tr>\n",
       "      <th>380</th>\n",
       "      <td>Victory</td>\n",
       "      <td>0.555279</td>\n",
       "      <td>0.828663</td>\n",
       "      <td>-0.025550</td>\n",
       "      <td>0.0</td>\n",
       "      <td>0.552398</td>\n",
       "      <td>0.782844</td>\n",
       "      <td>-0.052205</td>\n",
       "      <td>0.0</td>\n",
       "      <td>0.552757</td>\n",
       "      <td>...</td>\n",
       "      <td>0.179033</td>\n",
       "      <td>0.000957</td>\n",
       "      <td>0.690909</td>\n",
       "      <td>3.334619</td>\n",
       "      <td>-0.417070</td>\n",
       "      <td>0.000912</td>\n",
       "      <td>0.490363</td>\n",
       "      <td>3.328841</td>\n",
       "      <td>-0.557272</td>\n",
       "      <td>0.001024</td>\n",
       "    </tr>\n",
       "    <tr>\n",
       "      <th>381</th>\n",
       "      <td>Victory</td>\n",
       "      <td>0.555263</td>\n",
       "      <td>0.820308</td>\n",
       "      <td>-0.028019</td>\n",
       "      <td>0.0</td>\n",
       "      <td>0.552361</td>\n",
       "      <td>0.774119</td>\n",
       "      <td>-0.051575</td>\n",
       "      <td>0.0</td>\n",
       "      <td>0.552840</td>\n",
       "      <td>...</td>\n",
       "      <td>0.182173</td>\n",
       "      <td>0.000864</td>\n",
       "      <td>0.694402</td>\n",
       "      <td>3.363317</td>\n",
       "      <td>-0.430986</td>\n",
       "      <td>0.000828</td>\n",
       "      <td>0.502896</td>\n",
       "      <td>3.358914</td>\n",
       "      <td>-0.529971</td>\n",
       "      <td>0.000930</td>\n",
       "    </tr>\n",
       "    <tr>\n",
       "      <th>382</th>\n",
       "      <td>Victory</td>\n",
       "      <td>0.557934</td>\n",
       "      <td>0.819479</td>\n",
       "      <td>-0.027461</td>\n",
       "      <td>0.0</td>\n",
       "      <td>0.555785</td>\n",
       "      <td>0.772783</td>\n",
       "      <td>-0.052723</td>\n",
       "      <td>0.0</td>\n",
       "      <td>0.555841</td>\n",
       "      <td>...</td>\n",
       "      <td>0.209458</td>\n",
       "      <td>0.000779</td>\n",
       "      <td>0.697666</td>\n",
       "      <td>3.374440</td>\n",
       "      <td>-0.382142</td>\n",
       "      <td>0.000750</td>\n",
       "      <td>0.501688</td>\n",
       "      <td>3.366139</td>\n",
       "      <td>-0.519904</td>\n",
       "      <td>0.000841</td>\n",
       "    </tr>\n",
       "    <tr>\n",
       "      <th>383</th>\n",
       "      <td>Victory</td>\n",
       "      <td>0.561287</td>\n",
       "      <td>0.820966</td>\n",
       "      <td>-0.026889</td>\n",
       "      <td>0.0</td>\n",
       "      <td>0.558755</td>\n",
       "      <td>0.775524</td>\n",
       "      <td>-0.052493</td>\n",
       "      <td>0.0</td>\n",
       "      <td>0.558799</td>\n",
       "      <td>...</td>\n",
       "      <td>0.176427</td>\n",
       "      <td>0.000702</td>\n",
       "      <td>0.695903</td>\n",
       "      <td>3.383806</td>\n",
       "      <td>-0.394095</td>\n",
       "      <td>0.000681</td>\n",
       "      <td>0.497355</td>\n",
       "      <td>3.373575</td>\n",
       "      <td>-0.536701</td>\n",
       "      <td>0.000762</td>\n",
       "    </tr>\n",
       "  </tbody>\n",
       "</table>\n",
       "<p>384 rows × 2005 columns</p>\n",
       "</div>"
      ],
      "text/plain": [
       "       class        x1        y1        z1   v1        x2        y2        z2  \\\n",
       "0      Happy  0.547131  0.724928 -0.028416  0.0  0.544718  0.678283 -0.050843   \n",
       "1      Happy  0.549883  0.722531 -0.030778  0.0  0.548051  0.674411 -0.052304   \n",
       "2      Happy  0.549482  0.723379 -0.029957  0.0  0.547660  0.675722 -0.052029   \n",
       "3      Happy  0.550207  0.722998 -0.030176  0.0  0.548378  0.675400 -0.052412   \n",
       "4      Happy  0.550555  0.723170 -0.030180  0.0  0.548819  0.675114 -0.052538   \n",
       "..       ...       ...       ...       ...  ...       ...       ...       ...   \n",
       "379  Victory  0.551168  0.820503 -0.027043  0.0  0.548069  0.774930 -0.052332   \n",
       "380  Victory  0.555279  0.828663 -0.025550  0.0  0.552398  0.782844 -0.052205   \n",
       "381  Victory  0.555263  0.820308 -0.028019  0.0  0.552361  0.774119 -0.051575   \n",
       "382  Victory  0.557934  0.819479 -0.027461  0.0  0.555785  0.772783 -0.052723   \n",
       "383  Victory  0.561287  0.820966 -0.026889  0.0  0.558755  0.775524 -0.052493   \n",
       "\n",
       "      v2        x3  ...      z499      v499      x500      y500      z500  \\\n",
       "0    0.0  0.544747  ...  0.202666  0.000002  0.649465  3.068984 -0.164984   \n",
       "1    0.0  0.547792  ...  0.212661  0.000004  0.657304  3.105280 -0.169141   \n",
       "2    0.0  0.547431  ...  0.342310  0.000006  0.656353  3.122153 -0.082582   \n",
       "3    0.0  0.548038  ...  0.306131  0.000008  0.657192  3.123646 -0.100293   \n",
       "4    0.0  0.548441  ...  0.479969  0.000010  0.657317  3.137843  0.007543   \n",
       "..   ...       ...  ...       ...       ...       ...       ...       ...   \n",
       "379  0.0  0.548617  ...  0.329795  0.001062  0.722219  3.337527 -0.322938   \n",
       "380  0.0  0.552757  ...  0.179033  0.000957  0.690909  3.334619 -0.417070   \n",
       "381  0.0  0.552840  ...  0.182173  0.000864  0.694402  3.363317 -0.430986   \n",
       "382  0.0  0.555841  ...  0.209458  0.000779  0.697666  3.374440 -0.382142   \n",
       "383  0.0  0.558799  ...  0.176427  0.000702  0.695903  3.383806 -0.394095   \n",
       "\n",
       "         v500      x501      y501      z501      v501  \n",
       "0    0.000032  0.470089  3.057953 -0.393611  0.000010  \n",
       "1    0.000038  0.474488  3.081895 -0.439254  0.000017  \n",
       "2    0.000042  0.473713  3.095768 -0.336436  0.000021  \n",
       "3    0.000048  0.475507  3.097245 -0.340493  0.000026  \n",
       "4    0.000052  0.476645  3.116708 -0.191758  0.000030  \n",
       "..        ...       ...       ...       ...       ...  \n",
       "379  0.001010  0.520622  3.337428 -0.350937  0.001136  \n",
       "380  0.000912  0.490363  3.328841 -0.557272  0.001024  \n",
       "381  0.000828  0.502896  3.358914 -0.529971  0.000930  \n",
       "382  0.000750  0.501688  3.366139 -0.519904  0.000841  \n",
       "383  0.000681  0.497355  3.373575 -0.536701  0.000762  \n",
       "\n",
       "[384 rows x 2005 columns]"
      ]
     },
     "execution_count": 79,
     "metadata": {},
     "output_type": "execute_result"
    }
   ],
   "source": [
    "df"
   ]
  },
  {
   "cell_type": "code",
   "execution_count": 91,
   "id": "00bc5fe9",
   "metadata": {},
   "outputs": [],
   "source": [
    "x = df.drop('class', axis=1)"
   ]
  },
  {
   "cell_type": "code",
   "execution_count": 92,
   "id": "b3264e40",
   "metadata": {},
   "outputs": [],
   "source": [
    "y = df[\"class\"]"
   ]
  },
  {
   "cell_type": "code",
   "execution_count": 95,
   "id": "b14ef9f9",
   "metadata": {},
   "outputs": [],
   "source": [
    "from sklearn.model_selection import train_test_split"
   ]
  },
  {
   "cell_type": "code",
   "execution_count": 96,
   "id": "155daf46",
   "metadata": {},
   "outputs": [],
   "source": [
    "x_train, x_test, y_train, y_test = train_test_split(x, y, test_size=0.3,)"
   ]
  },
  {
   "cell_type": "code",
   "execution_count": 97,
   "id": "c0a12bdc",
   "metadata": {},
   "outputs": [
    {
     "data": {
      "text/plain": [
       "86     Happy\n",
       "14     Happy\n",
       "17     Happy\n",
       "3      Happy\n",
       "12     Happy\n",
       "       ...  \n",
       "192      Sad\n",
       "193      Sad\n",
       "288      Sad\n",
       "55     Happy\n",
       "200      Sad\n",
       "Name: class, Length: 116, dtype: object"
      ]
     },
     "execution_count": 97,
     "metadata": {},
     "output_type": "execute_result"
    }
   ],
   "source": [
    "y_test"
   ]
  },
  {
   "cell_type": "code",
   "execution_count": 99,
   "id": "d89ff7ce",
   "metadata": {},
   "outputs": [],
   "source": [
    "from sklearn.linear_model import LogisticRegression, RidgeClassifier\n",
    "from sklearn.preprocessing import StandardScaler\n",
    "from sklearn.ensemble import RandomForestClassifier, GradientBoostingClassifier\n",
    "from sklearn.pipeline import make_pipeline"
   ]
  },
  {
   "cell_type": "code",
   "execution_count": 108,
   "id": "ac7a0367",
   "metadata": {},
   "outputs": [],
   "source": [
    "pipelines = {\n",
    "    'lr':make_pipeline(StandardScaler(), LogisticRegression()),\n",
    "    'rc':make_pipeline(StandardScaler(), RidgeClassifier()),\n",
    "    'rf':make_pipeline( StandardScaler(), RandomForestClassifier()),\n",
    "    'gc':make_pipeline( StandardScaler(),  GradientBoostingClassifier()),\n",
    "}"
   ]
  },
  {
   "cell_type": "code",
   "execution_count": 109,
   "id": "8e0c08c2",
   "metadata": {},
   "outputs": [
    {
     "data": {
      "text/plain": [
       "dict_items([('lr', Pipeline(steps=[('standardscaler', StandardScaler()),\n",
       "                ('logisticregression', LogisticRegression())])), ('rc', Pipeline(steps=[('standardscaler', StandardScaler()),\n",
       "                ('ridgeclassifier', RidgeClassifier())])), ('rf', Pipeline(steps=[('standardscaler', StandardScaler()),\n",
       "                ('randomforestclassifier', RandomForestClassifier())])), ('gc', Pipeline(steps=[('standardscaler', StandardScaler()),\n",
       "                ('gradientboostingclassifier', GradientBoostingClassifier())]))])"
      ]
     },
     "execution_count": 109,
     "metadata": {},
     "output_type": "execute_result"
    }
   ],
   "source": [
    "pipelines.items()"
   ]
  },
  {
   "cell_type": "code",
   "execution_count": 110,
   "id": "c78d52ab",
   "metadata": {},
   "outputs": [],
   "source": [
    "fit_model = {}\n",
    "for algo, pipeline in pipelines.items():\n",
    "    model = pipeline.fit(x_train, y_train)\n",
    "    fit_model[algo] = model\n",
    "    "
   ]
  },
  {
   "cell_type": "code",
   "execution_count": 111,
   "id": "36d7a95b",
   "metadata": {},
   "outputs": [
    {
     "data": {
      "text/plain": [
       "{'lr': Pipeline(steps=[('standardscaler', StandardScaler()),\n",
       "                 ('logisticregression', LogisticRegression())]),\n",
       " 'rc': Pipeline(steps=[('standardscaler', StandardScaler()),\n",
       "                 ('ridgeclassifier', RidgeClassifier())]),\n",
       " 'rf': Pipeline(steps=[('standardscaler', StandardScaler()),\n",
       "                 ('randomforestclassifier', RandomForestClassifier())]),\n",
       " 'gc': Pipeline(steps=[('standardscaler', StandardScaler()),\n",
       "                 ('gradientboostingclassifier', GradientBoostingClassifier())])}"
      ]
     },
     "execution_count": 111,
     "metadata": {},
     "output_type": "execute_result"
    }
   ],
   "source": [
    "fit_model"
   ]
  },
  {
   "cell_type": "code",
   "execution_count": 120,
   "id": "2ad867bc",
   "metadata": {},
   "outputs": [
    {
     "name": "stdout",
     "output_type": "stream",
     "text": [
      "['Happy' 'Happy' 'Happy' 'Happy' 'Happy' 'Happy' 'Sad' 'Happy' 'Happy'\n",
      " 'Sad' 'Sad' 'Sad' 'Victory' 'Victory' 'Sad' 'Sad' 'Happy' 'Happy' 'Happy'\n",
      " 'Victory' 'Sad' 'Happy' 'Happy' 'Happy' 'Sad' 'Victory' 'Victory' 'Happy'\n",
      " 'Victory' 'Happy' 'Victory' 'Happy' 'Sad' 'Happy' 'Sad' 'Happy' 'Happy'\n",
      " 'Sad' 'Victory' 'Sad' 'Happy' 'Victory' 'Happy' 'Sad' 'Sad' 'Happy'\n",
      " 'Happy' 'Victory' 'Sad' 'Happy' 'Sad' 'Victory' 'Happy' 'Victory' 'Sad'\n",
      " 'Happy' 'Sad' 'Victory' 'Sad' 'Sad' 'Happy' 'Victory' 'Happy' 'Happy'\n",
      " 'Sad' 'Victory' 'Victory' 'Sad' 'Victory' 'Happy' 'Happy' 'Sad' 'Sad'\n",
      " 'Happy' 'Happy' 'Victory' 'Happy' 'Happy' 'Sad' 'Happy' 'Happy' 'Victory'\n",
      " 'Sad' 'Happy' 'Happy' 'Sad' 'Happy' 'Sad' 'Sad' 'Sad' 'Happy' 'Victory'\n",
      " 'Victory' 'Sad' 'Sad' 'Happy' 'Sad' 'Happy' 'Happy' 'Victory' 'Sad'\n",
      " 'Happy' 'Happy' 'Happy' 'Happy' 'Sad' 'Sad' 'Happy' 'Happy' 'Happy' 'Sad'\n",
      " 'Sad' 'Sad' 'Sad' 'Happy' 'Sad']\n"
     ]
    }
   ],
   "source": [
    "print(fit_model['rf'].predict(x_test))"
   ]
  },
  {
   "cell_type": "code",
   "execution_count": 121,
   "id": "362b1e2a",
   "metadata": {},
   "outputs": [],
   "source": [
    "from  sklearn.metrics import accuracy_score\n",
    "import pickle"
   ]
  },
  {
   "cell_type": "code",
   "execution_count": 125,
   "id": "8a06a34f",
   "metadata": {},
   "outputs": [],
   "source": [
    "for algo, model in fit_model.items():\n",
    "    y_pred = model.predict(x_test)\n",
    "    accuracy = accuracy_score(y_pred, y_test)"
   ]
  },
  {
   "cell_type": "code",
   "execution_count": 126,
   "id": "db61deab",
   "metadata": {},
   "outputs": [
    {
     "name": "stdout",
     "output_type": "stream",
     "text": [
      "gc 0.9741379310344828\n"
     ]
    }
   ],
   "source": [
    "print(algo, accuracy)"
   ]
  },
  {
   "cell_type": "code",
   "execution_count": 141,
   "id": "d79629e4",
   "metadata": {},
   "outputs": [],
   "source": [
    "with open('body_lan.pkl', 'wb') as f:\n",
    "    pickle.dump(fit_model['rf'], f)"
   ]
  },
  {
   "cell_type": "code",
   "execution_count": 142,
   "id": "3172d657",
   "metadata": {},
   "outputs": [],
   "source": [
    "with open('body_lan.pkl', 'rb') as f:\n",
    "    model = pickle.load(f)"
   ]
  },
  {
   "cell_type": "code",
   "execution_count": 143,
   "id": "bae1c55f",
   "metadata": {},
   "outputs": [
    {
     "data": {
      "text/html": [
       "<style>#sk-container-id-3 {color: black;background-color: white;}#sk-container-id-3 pre{padding: 0;}#sk-container-id-3 div.sk-toggleable {background-color: white;}#sk-container-id-3 label.sk-toggleable__label {cursor: pointer;display: block;width: 100%;margin-bottom: 0;padding: 0.3em;box-sizing: border-box;text-align: center;}#sk-container-id-3 label.sk-toggleable__label-arrow:before {content: \"▸\";float: left;margin-right: 0.25em;color: #696969;}#sk-container-id-3 label.sk-toggleable__label-arrow:hover:before {color: black;}#sk-container-id-3 div.sk-estimator:hover label.sk-toggleable__label-arrow:before {color: black;}#sk-container-id-3 div.sk-toggleable__content {max-height: 0;max-width: 0;overflow: hidden;text-align: left;background-color: #f0f8ff;}#sk-container-id-3 div.sk-toggleable__content pre {margin: 0.2em;color: black;border-radius: 0.25em;background-color: #f0f8ff;}#sk-container-id-3 input.sk-toggleable__control:checked~div.sk-toggleable__content {max-height: 200px;max-width: 100%;overflow: auto;}#sk-container-id-3 input.sk-toggleable__control:checked~label.sk-toggleable__label-arrow:before {content: \"▾\";}#sk-container-id-3 div.sk-estimator input.sk-toggleable__control:checked~label.sk-toggleable__label {background-color: #d4ebff;}#sk-container-id-3 div.sk-label input.sk-toggleable__control:checked~label.sk-toggleable__label {background-color: #d4ebff;}#sk-container-id-3 input.sk-hidden--visually {border: 0;clip: rect(1px 1px 1px 1px);clip: rect(1px, 1px, 1px, 1px);height: 1px;margin: -1px;overflow: hidden;padding: 0;position: absolute;width: 1px;}#sk-container-id-3 div.sk-estimator {font-family: monospace;background-color: #f0f8ff;border: 1px dotted black;border-radius: 0.25em;box-sizing: border-box;margin-bottom: 0.5em;}#sk-container-id-3 div.sk-estimator:hover {background-color: #d4ebff;}#sk-container-id-3 div.sk-parallel-item::after {content: \"\";width: 100%;border-bottom: 1px solid gray;flex-grow: 1;}#sk-container-id-3 div.sk-label:hover label.sk-toggleable__label {background-color: #d4ebff;}#sk-container-id-3 div.sk-serial::before {content: \"\";position: absolute;border-left: 1px solid gray;box-sizing: border-box;top: 0;bottom: 0;left: 50%;z-index: 0;}#sk-container-id-3 div.sk-serial {display: flex;flex-direction: column;align-items: center;background-color: white;padding-right: 0.2em;padding-left: 0.2em;position: relative;}#sk-container-id-3 div.sk-item {position: relative;z-index: 1;}#sk-container-id-3 div.sk-parallel {display: flex;align-items: stretch;justify-content: center;background-color: white;position: relative;}#sk-container-id-3 div.sk-item::before, #sk-container-id-3 div.sk-parallel-item::before {content: \"\";position: absolute;border-left: 1px solid gray;box-sizing: border-box;top: 0;bottom: 0;left: 50%;z-index: -1;}#sk-container-id-3 div.sk-parallel-item {display: flex;flex-direction: column;z-index: 1;position: relative;background-color: white;}#sk-container-id-3 div.sk-parallel-item:first-child::after {align-self: flex-end;width: 50%;}#sk-container-id-3 div.sk-parallel-item:last-child::after {align-self: flex-start;width: 50%;}#sk-container-id-3 div.sk-parallel-item:only-child::after {width: 0;}#sk-container-id-3 div.sk-dashed-wrapped {border: 1px dashed gray;margin: 0 0.4em 0.5em 0.4em;box-sizing: border-box;padding-bottom: 0.4em;background-color: white;}#sk-container-id-3 div.sk-label label {font-family: monospace;font-weight: bold;display: inline-block;line-height: 1.2em;}#sk-container-id-3 div.sk-label-container {text-align: center;}#sk-container-id-3 div.sk-container {/* jupyter's `normalize.less` sets `[hidden] { display: none; }` but bootstrap.min.css set `[hidden] { display: none !important; }` so we also need the `!important` here to be able to override the default hidden behavior on the sphinx rendered scikit-learn.org. See: https://github.com/scikit-learn/scikit-learn/issues/21755 */display: inline-block !important;position: relative;}#sk-container-id-3 div.sk-text-repr-fallback {display: none;}</style><div id=\"sk-container-id-3\" class=\"sk-top-container\"><div class=\"sk-text-repr-fallback\"><pre>Pipeline(steps=[(&#x27;standardscaler&#x27;, StandardScaler()),\n",
       "                (&#x27;randomforestclassifier&#x27;, RandomForestClassifier())])</pre><b>In a Jupyter environment, please rerun this cell to show the HTML representation or trust the notebook. <br />On GitHub, the HTML representation is unable to render, please try loading this page with nbviewer.org.</b></div><div class=\"sk-container\" hidden><div class=\"sk-item sk-dashed-wrapped\"><div class=\"sk-label-container\"><div class=\"sk-label sk-toggleable\"><input class=\"sk-toggleable__control sk-hidden--visually\" id=\"sk-estimator-id-7\" type=\"checkbox\" ><label for=\"sk-estimator-id-7\" class=\"sk-toggleable__label sk-toggleable__label-arrow\">Pipeline</label><div class=\"sk-toggleable__content\"><pre>Pipeline(steps=[(&#x27;standardscaler&#x27;, StandardScaler()),\n",
       "                (&#x27;randomforestclassifier&#x27;, RandomForestClassifier())])</pre></div></div></div><div class=\"sk-serial\"><div class=\"sk-item\"><div class=\"sk-estimator sk-toggleable\"><input class=\"sk-toggleable__control sk-hidden--visually\" id=\"sk-estimator-id-8\" type=\"checkbox\" ><label for=\"sk-estimator-id-8\" class=\"sk-toggleable__label sk-toggleable__label-arrow\">StandardScaler</label><div class=\"sk-toggleable__content\"><pre>StandardScaler()</pre></div></div></div><div class=\"sk-item\"><div class=\"sk-estimator sk-toggleable\"><input class=\"sk-toggleable__control sk-hidden--visually\" id=\"sk-estimator-id-9\" type=\"checkbox\" ><label for=\"sk-estimator-id-9\" class=\"sk-toggleable__label sk-toggleable__label-arrow\">RandomForestClassifier</label><div class=\"sk-toggleable__content\"><pre>RandomForestClassifier()</pre></div></div></div></div></div></div></div>"
      ],
      "text/plain": [
       "Pipeline(steps=[('standardscaler', StandardScaler()),\n",
       "                ('randomforestclassifier', RandomForestClassifier())])"
      ]
     },
     "execution_count": 143,
     "metadata": {},
     "output_type": "execute_result"
    }
   ],
   "source": [
    "model"
   ]
  },
  {
   "cell_type": "code",
   "execution_count": 144,
   "id": "6d6cd768",
   "metadata": {},
   "outputs": [
    {
     "name": "stderr",
     "output_type": "stream",
     "text": [
      "C:\\Users\\ABHIRAJ\\Desktop\\MediaPipe\\ss\\Lib\\site-packages\\sklearn\\base.py:439: UserWarning: X does not have valid feature names, but StandardScaler was fitted with feature names\n",
      "  warnings.warn(\n",
      "C:\\Users\\ABHIRAJ\\Desktop\\MediaPipe\\ss\\Lib\\site-packages\\sklearn\\base.py:439: UserWarning: X does not have valid feature names, but StandardScaler was fitted with feature names\n",
      "  warnings.warn(\n",
      "C:\\Users\\ABHIRAJ\\Desktop\\MediaPipe\\ss\\Lib\\site-packages\\sklearn\\base.py:439: UserWarning: X does not have valid feature names, but StandardScaler was fitted with feature names\n",
      "  warnings.warn(\n",
      "C:\\Users\\ABHIRAJ\\Desktop\\MediaPipe\\ss\\Lib\\site-packages\\sklearn\\base.py:439: UserWarning: X does not have valid feature names, but StandardScaler was fitted with feature names\n",
      "  warnings.warn(\n"
     ]
    },
    {
     "name": "stdout",
     "output_type": "stream",
     "text": [
      "Victory [0.08 0.2  0.72]\n",
      "Victory [0.07 0.21 0.72]\n"
     ]
    },
    {
     "name": "stderr",
     "output_type": "stream",
     "text": [
      "C:\\Users\\ABHIRAJ\\Desktop\\MediaPipe\\ss\\Lib\\site-packages\\sklearn\\base.py:439: UserWarning: X does not have valid feature names, but StandardScaler was fitted with feature names\n",
      "  warnings.warn(\n",
      "C:\\Users\\ABHIRAJ\\Desktop\\MediaPipe\\ss\\Lib\\site-packages\\sklearn\\base.py:439: UserWarning: X does not have valid feature names, but StandardScaler was fitted with feature names\n",
      "  warnings.warn(\n",
      "C:\\Users\\ABHIRAJ\\Desktop\\MediaPipe\\ss\\Lib\\site-packages\\sklearn\\base.py:439: UserWarning: X does not have valid feature names, but StandardScaler was fitted with feature names\n",
      "  warnings.warn(\n",
      "C:\\Users\\ABHIRAJ\\Desktop\\MediaPipe\\ss\\Lib\\site-packages\\sklearn\\base.py:439: UserWarning: X does not have valid feature names, but StandardScaler was fitted with feature names\n",
      "  warnings.warn(\n"
     ]
    },
    {
     "name": "stdout",
     "output_type": "stream",
     "text": [
      "Victory [0.08 0.22 0.7 ]\n",
      "Victory [0.09 0.23 0.68]\n"
     ]
    },
    {
     "name": "stderr",
     "output_type": "stream",
     "text": [
      "C:\\Users\\ABHIRAJ\\Desktop\\MediaPipe\\ss\\Lib\\site-packages\\sklearn\\base.py:439: UserWarning: X does not have valid feature names, but StandardScaler was fitted with feature names\n",
      "  warnings.warn(\n",
      "C:\\Users\\ABHIRAJ\\Desktop\\MediaPipe\\ss\\Lib\\site-packages\\sklearn\\base.py:439: UserWarning: X does not have valid feature names, but StandardScaler was fitted with feature names\n",
      "  warnings.warn(\n",
      "C:\\Users\\ABHIRAJ\\Desktop\\MediaPipe\\ss\\Lib\\site-packages\\sklearn\\base.py:439: UserWarning: X does not have valid feature names, but StandardScaler was fitted with feature names\n",
      "  warnings.warn(\n",
      "C:\\Users\\ABHIRAJ\\Desktop\\MediaPipe\\ss\\Lib\\site-packages\\sklearn\\base.py:439: UserWarning: X does not have valid feature names, but StandardScaler was fitted with feature names\n",
      "  warnings.warn(\n"
     ]
    },
    {
     "name": "stdout",
     "output_type": "stream",
     "text": [
      "Victory [0.09 0.23 0.68]\n",
      "Victory [0.09 0.23 0.68]\n"
     ]
    },
    {
     "name": "stderr",
     "output_type": "stream",
     "text": [
      "C:\\Users\\ABHIRAJ\\Desktop\\MediaPipe\\ss\\Lib\\site-packages\\sklearn\\base.py:439: UserWarning: X does not have valid feature names, but StandardScaler was fitted with feature names\n",
      "  warnings.warn(\n",
      "C:\\Users\\ABHIRAJ\\Desktop\\MediaPipe\\ss\\Lib\\site-packages\\sklearn\\base.py:439: UserWarning: X does not have valid feature names, but StandardScaler was fitted with feature names\n",
      "  warnings.warn(\n",
      "C:\\Users\\ABHIRAJ\\Desktop\\MediaPipe\\ss\\Lib\\site-packages\\sklearn\\base.py:439: UserWarning: X does not have valid feature names, but StandardScaler was fitted with feature names\n",
      "  warnings.warn(\n",
      "C:\\Users\\ABHIRAJ\\Desktop\\MediaPipe\\ss\\Lib\\site-packages\\sklearn\\base.py:439: UserWarning: X does not have valid feature names, but StandardScaler was fitted with feature names\n",
      "  warnings.warn(\n"
     ]
    },
    {
     "name": "stdout",
     "output_type": "stream",
     "text": [
      "Victory [0.09 0.23 0.68]\n",
      "Victory [0.09 0.23 0.68]\n"
     ]
    },
    {
     "name": "stderr",
     "output_type": "stream",
     "text": [
      "C:\\Users\\ABHIRAJ\\Desktop\\MediaPipe\\ss\\Lib\\site-packages\\sklearn\\base.py:439: UserWarning: X does not have valid feature names, but StandardScaler was fitted with feature names\n",
      "  warnings.warn(\n",
      "C:\\Users\\ABHIRAJ\\Desktop\\MediaPipe\\ss\\Lib\\site-packages\\sklearn\\base.py:439: UserWarning: X does not have valid feature names, but StandardScaler was fitted with feature names\n",
      "  warnings.warn(\n",
      "C:\\Users\\ABHIRAJ\\Desktop\\MediaPipe\\ss\\Lib\\site-packages\\sklearn\\base.py:439: UserWarning: X does not have valid feature names, but StandardScaler was fitted with feature names\n",
      "  warnings.warn(\n",
      "C:\\Users\\ABHIRAJ\\Desktop\\MediaPipe\\ss\\Lib\\site-packages\\sklearn\\base.py:439: UserWarning: X does not have valid feature names, but StandardScaler was fitted with feature names\n",
      "  warnings.warn(\n"
     ]
    },
    {
     "name": "stdout",
     "output_type": "stream",
     "text": [
      "Victory [0.09 0.23 0.68]\n",
      "Victory [0.09 0.23 0.68]\n"
     ]
    },
    {
     "name": "stderr",
     "output_type": "stream",
     "text": [
      "C:\\Users\\ABHIRAJ\\Desktop\\MediaPipe\\ss\\Lib\\site-packages\\sklearn\\base.py:439: UserWarning: X does not have valid feature names, but StandardScaler was fitted with feature names\n",
      "  warnings.warn(\n",
      "C:\\Users\\ABHIRAJ\\Desktop\\MediaPipe\\ss\\Lib\\site-packages\\sklearn\\base.py:439: UserWarning: X does not have valid feature names, but StandardScaler was fitted with feature names\n",
      "  warnings.warn(\n",
      "C:\\Users\\ABHIRAJ\\Desktop\\MediaPipe\\ss\\Lib\\site-packages\\sklearn\\base.py:439: UserWarning: X does not have valid feature names, but StandardScaler was fitted with feature names\n",
      "  warnings.warn(\n",
      "C:\\Users\\ABHIRAJ\\Desktop\\MediaPipe\\ss\\Lib\\site-packages\\sklearn\\base.py:439: UserWarning: X does not have valid feature names, but StandardScaler was fitted with feature names\n",
      "  warnings.warn(\n"
     ]
    },
    {
     "name": "stdout",
     "output_type": "stream",
     "text": [
      "Victory [0.09 0.23 0.68]\n",
      "Victory [0.09 0.23 0.68]\n"
     ]
    },
    {
     "name": "stderr",
     "output_type": "stream",
     "text": [
      "C:\\Users\\ABHIRAJ\\Desktop\\MediaPipe\\ss\\Lib\\site-packages\\sklearn\\base.py:439: UserWarning: X does not have valid feature names, but StandardScaler was fitted with feature names\n",
      "  warnings.warn(\n",
      "C:\\Users\\ABHIRAJ\\Desktop\\MediaPipe\\ss\\Lib\\site-packages\\sklearn\\base.py:439: UserWarning: X does not have valid feature names, but StandardScaler was fitted with feature names\n",
      "  warnings.warn(\n",
      "C:\\Users\\ABHIRAJ\\Desktop\\MediaPipe\\ss\\Lib\\site-packages\\sklearn\\base.py:439: UserWarning: X does not have valid feature names, but StandardScaler was fitted with feature names\n",
      "  warnings.warn(\n",
      "C:\\Users\\ABHIRAJ\\Desktop\\MediaPipe\\ss\\Lib\\site-packages\\sklearn\\base.py:439: UserWarning: X does not have valid feature names, but StandardScaler was fitted with feature names\n",
      "  warnings.warn(\n"
     ]
    },
    {
     "name": "stdout",
     "output_type": "stream",
     "text": [
      "Victory [0.09 0.23 0.68]\n",
      "Victory [0.09 0.23 0.68]\n"
     ]
    },
    {
     "name": "stderr",
     "output_type": "stream",
     "text": [
      "C:\\Users\\ABHIRAJ\\Desktop\\MediaPipe\\ss\\Lib\\site-packages\\sklearn\\base.py:439: UserWarning: X does not have valid feature names, but StandardScaler was fitted with feature names\n",
      "  warnings.warn(\n",
      "C:\\Users\\ABHIRAJ\\Desktop\\MediaPipe\\ss\\Lib\\site-packages\\sklearn\\base.py:439: UserWarning: X does not have valid feature names, but StandardScaler was fitted with feature names\n",
      "  warnings.warn(\n",
      "C:\\Users\\ABHIRAJ\\Desktop\\MediaPipe\\ss\\Lib\\site-packages\\sklearn\\base.py:439: UserWarning: X does not have valid feature names, but StandardScaler was fitted with feature names\n",
      "  warnings.warn(\n",
      "C:\\Users\\ABHIRAJ\\Desktop\\MediaPipe\\ss\\Lib\\site-packages\\sklearn\\base.py:439: UserWarning: X does not have valid feature names, but StandardScaler was fitted with feature names\n",
      "  warnings.warn(\n"
     ]
    },
    {
     "name": "stdout",
     "output_type": "stream",
     "text": [
      "Victory [0.08 0.23 0.69]\n",
      "Victory [0.08 0.22 0.7 ]\n"
     ]
    },
    {
     "name": "stderr",
     "output_type": "stream",
     "text": [
      "C:\\Users\\ABHIRAJ\\Desktop\\MediaPipe\\ss\\Lib\\site-packages\\sklearn\\base.py:439: UserWarning: X does not have valid feature names, but StandardScaler was fitted with feature names\n",
      "  warnings.warn(\n",
      "C:\\Users\\ABHIRAJ\\Desktop\\MediaPipe\\ss\\Lib\\site-packages\\sklearn\\base.py:439: UserWarning: X does not have valid feature names, but StandardScaler was fitted with feature names\n",
      "  warnings.warn(\n",
      "C:\\Users\\ABHIRAJ\\Desktop\\MediaPipe\\ss\\Lib\\site-packages\\sklearn\\base.py:439: UserWarning: X does not have valid feature names, but StandardScaler was fitted with feature names\n",
      "  warnings.warn(\n",
      "C:\\Users\\ABHIRAJ\\Desktop\\MediaPipe\\ss\\Lib\\site-packages\\sklearn\\base.py:439: UserWarning: X does not have valid feature names, but StandardScaler was fitted with feature names\n",
      "  warnings.warn(\n"
     ]
    },
    {
     "name": "stdout",
     "output_type": "stream",
     "text": [
      "Victory [0.08 0.23 0.69]\n",
      "Victory [0.08 0.23 0.69]\n"
     ]
    },
    {
     "name": "stderr",
     "output_type": "stream",
     "text": [
      "C:\\Users\\ABHIRAJ\\Desktop\\MediaPipe\\ss\\Lib\\site-packages\\sklearn\\base.py:439: UserWarning: X does not have valid feature names, but StandardScaler was fitted with feature names\n",
      "  warnings.warn(\n",
      "C:\\Users\\ABHIRAJ\\Desktop\\MediaPipe\\ss\\Lib\\site-packages\\sklearn\\base.py:439: UserWarning: X does not have valid feature names, but StandardScaler was fitted with feature names\n",
      "  warnings.warn(\n",
      "C:\\Users\\ABHIRAJ\\Desktop\\MediaPipe\\ss\\Lib\\site-packages\\sklearn\\base.py:439: UserWarning: X does not have valid feature names, but StandardScaler was fitted with feature names\n",
      "  warnings.warn(\n",
      "C:\\Users\\ABHIRAJ\\Desktop\\MediaPipe\\ss\\Lib\\site-packages\\sklearn\\base.py:439: UserWarning: X does not have valid feature names, but StandardScaler was fitted with feature names\n",
      "  warnings.warn(\n"
     ]
    },
    {
     "name": "stdout",
     "output_type": "stream",
     "text": [
      "Victory [0.08 0.18 0.74]\n",
      "Victory [0.07 0.11 0.82]\n"
     ]
    },
    {
     "name": "stderr",
     "output_type": "stream",
     "text": [
      "C:\\Users\\ABHIRAJ\\Desktop\\MediaPipe\\ss\\Lib\\site-packages\\sklearn\\base.py:439: UserWarning: X does not have valid feature names, but StandardScaler was fitted with feature names\n",
      "  warnings.warn(\n",
      "C:\\Users\\ABHIRAJ\\Desktop\\MediaPipe\\ss\\Lib\\site-packages\\sklearn\\base.py:439: UserWarning: X does not have valid feature names, but StandardScaler was fitted with feature names\n",
      "  warnings.warn(\n",
      "C:\\Users\\ABHIRAJ\\Desktop\\MediaPipe\\ss\\Lib\\site-packages\\sklearn\\base.py:439: UserWarning: X does not have valid feature names, but StandardScaler was fitted with feature names\n",
      "  warnings.warn(\n",
      "C:\\Users\\ABHIRAJ\\Desktop\\MediaPipe\\ss\\Lib\\site-packages\\sklearn\\base.py:439: UserWarning: X does not have valid feature names, but StandardScaler was fitted with feature names\n",
      "  warnings.warn(\n"
     ]
    },
    {
     "name": "stdout",
     "output_type": "stream",
     "text": [
      "Victory [0.07 0.1  0.83]\n",
      "Victory [0.08 0.1  0.82]\n"
     ]
    },
    {
     "name": "stderr",
     "output_type": "stream",
     "text": [
      "C:\\Users\\ABHIRAJ\\Desktop\\MediaPipe\\ss\\Lib\\site-packages\\sklearn\\base.py:439: UserWarning: X does not have valid feature names, but StandardScaler was fitted with feature names\n",
      "  warnings.warn(\n",
      "C:\\Users\\ABHIRAJ\\Desktop\\MediaPipe\\ss\\Lib\\site-packages\\sklearn\\base.py:439: UserWarning: X does not have valid feature names, but StandardScaler was fitted with feature names\n",
      "  warnings.warn(\n",
      "C:\\Users\\ABHIRAJ\\Desktop\\MediaPipe\\ss\\Lib\\site-packages\\sklearn\\base.py:439: UserWarning: X does not have valid feature names, but StandardScaler was fitted with feature names\n",
      "  warnings.warn(\n",
      "C:\\Users\\ABHIRAJ\\Desktop\\MediaPipe\\ss\\Lib\\site-packages\\sklearn\\base.py:439: UserWarning: X does not have valid feature names, but StandardScaler was fitted with feature names\n",
      "  warnings.warn(\n"
     ]
    },
    {
     "name": "stdout",
     "output_type": "stream",
     "text": [
      "Victory [0.08 0.1  0.82]\n",
      "Victory [0.07 0.1  0.83]\n"
     ]
    },
    {
     "name": "stderr",
     "output_type": "stream",
     "text": [
      "C:\\Users\\ABHIRAJ\\Desktop\\MediaPipe\\ss\\Lib\\site-packages\\sklearn\\base.py:439: UserWarning: X does not have valid feature names, but StandardScaler was fitted with feature names\n",
      "  warnings.warn(\n",
      "C:\\Users\\ABHIRAJ\\Desktop\\MediaPipe\\ss\\Lib\\site-packages\\sklearn\\base.py:439: UserWarning: X does not have valid feature names, but StandardScaler was fitted with feature names\n",
      "  warnings.warn(\n",
      "C:\\Users\\ABHIRAJ\\Desktop\\MediaPipe\\ss\\Lib\\site-packages\\sklearn\\base.py:439: UserWarning: X does not have valid feature names, but StandardScaler was fitted with feature names\n",
      "  warnings.warn(\n",
      "C:\\Users\\ABHIRAJ\\Desktop\\MediaPipe\\ss\\Lib\\site-packages\\sklearn\\base.py:439: UserWarning: X does not have valid feature names, but StandardScaler was fitted with feature names\n",
      "  warnings.warn(\n"
     ]
    },
    {
     "name": "stdout",
     "output_type": "stream",
     "text": [
      "Victory [0.07 0.1  0.83]\n",
      "Victory [0.05 0.05 0.9 ]\n"
     ]
    },
    {
     "name": "stderr",
     "output_type": "stream",
     "text": [
      "C:\\Users\\ABHIRAJ\\Desktop\\MediaPipe\\ss\\Lib\\site-packages\\sklearn\\base.py:439: UserWarning: X does not have valid feature names, but StandardScaler was fitted with feature names\n",
      "  warnings.warn(\n",
      "C:\\Users\\ABHIRAJ\\Desktop\\MediaPipe\\ss\\Lib\\site-packages\\sklearn\\base.py:439: UserWarning: X does not have valid feature names, but StandardScaler was fitted with feature names\n",
      "  warnings.warn(\n",
      "C:\\Users\\ABHIRAJ\\Desktop\\MediaPipe\\ss\\Lib\\site-packages\\sklearn\\base.py:439: UserWarning: X does not have valid feature names, but StandardScaler was fitted with feature names\n",
      "  warnings.warn(\n",
      "C:\\Users\\ABHIRAJ\\Desktop\\MediaPipe\\ss\\Lib\\site-packages\\sklearn\\base.py:439: UserWarning: X does not have valid feature names, but StandardScaler was fitted with feature names\n",
      "  warnings.warn(\n"
     ]
    },
    {
     "name": "stdout",
     "output_type": "stream",
     "text": [
      "Victory [0.04 0.05 0.91]\n",
      "Victory [0.04 0.05 0.91]\n"
     ]
    },
    {
     "name": "stderr",
     "output_type": "stream",
     "text": [
      "C:\\Users\\ABHIRAJ\\Desktop\\MediaPipe\\ss\\Lib\\site-packages\\sklearn\\base.py:439: UserWarning: X does not have valid feature names, but StandardScaler was fitted with feature names\n",
      "  warnings.warn(\n",
      "C:\\Users\\ABHIRAJ\\Desktop\\MediaPipe\\ss\\Lib\\site-packages\\sklearn\\base.py:439: UserWarning: X does not have valid feature names, but StandardScaler was fitted with feature names\n",
      "  warnings.warn(\n",
      "C:\\Users\\ABHIRAJ\\Desktop\\MediaPipe\\ss\\Lib\\site-packages\\sklearn\\base.py:439: UserWarning: X does not have valid feature names, but StandardScaler was fitted with feature names\n",
      "  warnings.warn(\n",
      "C:\\Users\\ABHIRAJ\\Desktop\\MediaPipe\\ss\\Lib\\site-packages\\sklearn\\base.py:439: UserWarning: X does not have valid feature names, but StandardScaler was fitted with feature names\n",
      "  warnings.warn(\n"
     ]
    },
    {
     "name": "stdout",
     "output_type": "stream",
     "text": [
      "Victory [0.04 0.02 0.94]\n",
      "Victory [0.01 0.01 0.98]\n"
     ]
    },
    {
     "name": "stderr",
     "output_type": "stream",
     "text": [
      "C:\\Users\\ABHIRAJ\\Desktop\\MediaPipe\\ss\\Lib\\site-packages\\sklearn\\base.py:439: UserWarning: X does not have valid feature names, but StandardScaler was fitted with feature names\n",
      "  warnings.warn(\n",
      "C:\\Users\\ABHIRAJ\\Desktop\\MediaPipe\\ss\\Lib\\site-packages\\sklearn\\base.py:439: UserWarning: X does not have valid feature names, but StandardScaler was fitted with feature names\n",
      "  warnings.warn(\n",
      "C:\\Users\\ABHIRAJ\\Desktop\\MediaPipe\\ss\\Lib\\site-packages\\sklearn\\base.py:439: UserWarning: X does not have valid feature names, but StandardScaler was fitted with feature names\n",
      "  warnings.warn(\n",
      "C:\\Users\\ABHIRAJ\\Desktop\\MediaPipe\\ss\\Lib\\site-packages\\sklearn\\base.py:439: UserWarning: X does not have valid feature names, but StandardScaler was fitted with feature names\n",
      "  warnings.warn(\n"
     ]
    },
    {
     "name": "stdout",
     "output_type": "stream",
     "text": [
      "Victory [0.01 0.01 0.98]\n",
      "Victory [0.01 0.01 0.98]\n"
     ]
    },
    {
     "name": "stderr",
     "output_type": "stream",
     "text": [
      "C:\\Users\\ABHIRAJ\\Desktop\\MediaPipe\\ss\\Lib\\site-packages\\sklearn\\base.py:439: UserWarning: X does not have valid feature names, but StandardScaler was fitted with feature names\n",
      "  warnings.warn(\n",
      "C:\\Users\\ABHIRAJ\\Desktop\\MediaPipe\\ss\\Lib\\site-packages\\sklearn\\base.py:439: UserWarning: X does not have valid feature names, but StandardScaler was fitted with feature names\n",
      "  warnings.warn(\n",
      "C:\\Users\\ABHIRAJ\\Desktop\\MediaPipe\\ss\\Lib\\site-packages\\sklearn\\base.py:439: UserWarning: X does not have valid feature names, but StandardScaler was fitted with feature names\n",
      "  warnings.warn(\n",
      "C:\\Users\\ABHIRAJ\\Desktop\\MediaPipe\\ss\\Lib\\site-packages\\sklearn\\base.py:439: UserWarning: X does not have valid feature names, but StandardScaler was fitted with feature names\n",
      "  warnings.warn(\n"
     ]
    },
    {
     "name": "stdout",
     "output_type": "stream",
     "text": [
      "Victory [0.01 0.01 0.98]\n",
      "Victory [0.01 0.01 0.98]\n"
     ]
    },
    {
     "name": "stderr",
     "output_type": "stream",
     "text": [
      "C:\\Users\\ABHIRAJ\\Desktop\\MediaPipe\\ss\\Lib\\site-packages\\sklearn\\base.py:439: UserWarning: X does not have valid feature names, but StandardScaler was fitted with feature names\n",
      "  warnings.warn(\n",
      "C:\\Users\\ABHIRAJ\\Desktop\\MediaPipe\\ss\\Lib\\site-packages\\sklearn\\base.py:439: UserWarning: X does not have valid feature names, but StandardScaler was fitted with feature names\n",
      "  warnings.warn(\n",
      "C:\\Users\\ABHIRAJ\\Desktop\\MediaPipe\\ss\\Lib\\site-packages\\sklearn\\base.py:439: UserWarning: X does not have valid feature names, but StandardScaler was fitted with feature names\n",
      "  warnings.warn(\n",
      "C:\\Users\\ABHIRAJ\\Desktop\\MediaPipe\\ss\\Lib\\site-packages\\sklearn\\base.py:439: UserWarning: X does not have valid feature names, but StandardScaler was fitted with feature names\n",
      "  warnings.warn(\n"
     ]
    },
    {
     "name": "stdout",
     "output_type": "stream",
     "text": [
      "Victory [0.01 0.01 0.98]\n",
      "Victory [0.01 0.01 0.98]\n"
     ]
    },
    {
     "name": "stderr",
     "output_type": "stream",
     "text": [
      "C:\\Users\\ABHIRAJ\\Desktop\\MediaPipe\\ss\\Lib\\site-packages\\sklearn\\base.py:439: UserWarning: X does not have valid feature names, but StandardScaler was fitted with feature names\n",
      "  warnings.warn(\n",
      "C:\\Users\\ABHIRAJ\\Desktop\\MediaPipe\\ss\\Lib\\site-packages\\sklearn\\base.py:439: UserWarning: X does not have valid feature names, but StandardScaler was fitted with feature names\n",
      "  warnings.warn(\n",
      "C:\\Users\\ABHIRAJ\\Desktop\\MediaPipe\\ss\\Lib\\site-packages\\sklearn\\base.py:439: UserWarning: X does not have valid feature names, but StandardScaler was fitted with feature names\n",
      "  warnings.warn(\n",
      "C:\\Users\\ABHIRAJ\\Desktop\\MediaPipe\\ss\\Lib\\site-packages\\sklearn\\base.py:439: UserWarning: X does not have valid feature names, but StandardScaler was fitted with feature names\n",
      "  warnings.warn(\n"
     ]
    },
    {
     "name": "stdout",
     "output_type": "stream",
     "text": [
      "Victory [0.01 0.04 0.95]\n",
      "Victory [0.07 0.1  0.83]\n"
     ]
    },
    {
     "name": "stderr",
     "output_type": "stream",
     "text": [
      "C:\\Users\\ABHIRAJ\\Desktop\\MediaPipe\\ss\\Lib\\site-packages\\sklearn\\base.py:439: UserWarning: X does not have valid feature names, but StandardScaler was fitted with feature names\n",
      "  warnings.warn(\n",
      "C:\\Users\\ABHIRAJ\\Desktop\\MediaPipe\\ss\\Lib\\site-packages\\sklearn\\base.py:439: UserWarning: X does not have valid feature names, but StandardScaler was fitted with feature names\n",
      "  warnings.warn(\n",
      "C:\\Users\\ABHIRAJ\\Desktop\\MediaPipe\\ss\\Lib\\site-packages\\sklearn\\base.py:439: UserWarning: X does not have valid feature names, but StandardScaler was fitted with feature names\n",
      "  warnings.warn(\n",
      "C:\\Users\\ABHIRAJ\\Desktop\\MediaPipe\\ss\\Lib\\site-packages\\sklearn\\base.py:439: UserWarning: X does not have valid feature names, but StandardScaler was fitted with feature names\n",
      "  warnings.warn(\n"
     ]
    },
    {
     "name": "stdout",
     "output_type": "stream",
     "text": [
      "Victory [0.07 0.08 0.85]\n",
      "Victory [0.07 0.1  0.83]\n"
     ]
    },
    {
     "name": "stderr",
     "output_type": "stream",
     "text": [
      "C:\\Users\\ABHIRAJ\\Desktop\\MediaPipe\\ss\\Lib\\site-packages\\sklearn\\base.py:439: UserWarning: X does not have valid feature names, but StandardScaler was fitted with feature names\n",
      "  warnings.warn(\n",
      "C:\\Users\\ABHIRAJ\\Desktop\\MediaPipe\\ss\\Lib\\site-packages\\sklearn\\base.py:439: UserWarning: X does not have valid feature names, but StandardScaler was fitted with feature names\n",
      "  warnings.warn(\n",
      "C:\\Users\\ABHIRAJ\\Desktop\\MediaPipe\\ss\\Lib\\site-packages\\sklearn\\base.py:439: UserWarning: X does not have valid feature names, but StandardScaler was fitted with feature names\n",
      "  warnings.warn(\n",
      "C:\\Users\\ABHIRAJ\\Desktop\\MediaPipe\\ss\\Lib\\site-packages\\sklearn\\base.py:439: UserWarning: X does not have valid feature names, but StandardScaler was fitted with feature names\n",
      "  warnings.warn(\n"
     ]
    },
    {
     "name": "stdout",
     "output_type": "stream",
     "text": [
      "Victory [0.08 0.11 0.81]\n",
      "Victory [0.08 0.11 0.81]\n"
     ]
    },
    {
     "name": "stderr",
     "output_type": "stream",
     "text": [
      "C:\\Users\\ABHIRAJ\\Desktop\\MediaPipe\\ss\\Lib\\site-packages\\sklearn\\base.py:439: UserWarning: X does not have valid feature names, but StandardScaler was fitted with feature names\n",
      "  warnings.warn(\n",
      "C:\\Users\\ABHIRAJ\\Desktop\\MediaPipe\\ss\\Lib\\site-packages\\sklearn\\base.py:439: UserWarning: X does not have valid feature names, but StandardScaler was fitted with feature names\n",
      "  warnings.warn(\n",
      "C:\\Users\\ABHIRAJ\\Desktop\\MediaPipe\\ss\\Lib\\site-packages\\sklearn\\base.py:439: UserWarning: X does not have valid feature names, but StandardScaler was fitted with feature names\n",
      "  warnings.warn(\n",
      "C:\\Users\\ABHIRAJ\\Desktop\\MediaPipe\\ss\\Lib\\site-packages\\sklearn\\base.py:439: UserWarning: X does not have valid feature names, but StandardScaler was fitted with feature names\n",
      "  warnings.warn(\n"
     ]
    },
    {
     "name": "stdout",
     "output_type": "stream",
     "text": [
      "Victory [0.08 0.12 0.8 ]\n",
      "Victory [0.16 0.2  0.64]\n"
     ]
    },
    {
     "name": "stderr",
     "output_type": "stream",
     "text": [
      "C:\\Users\\ABHIRAJ\\Desktop\\MediaPipe\\ss\\Lib\\site-packages\\sklearn\\base.py:439: UserWarning: X does not have valid feature names, but StandardScaler was fitted with feature names\n",
      "  warnings.warn(\n",
      "C:\\Users\\ABHIRAJ\\Desktop\\MediaPipe\\ss\\Lib\\site-packages\\sklearn\\base.py:439: UserWarning: X does not have valid feature names, but StandardScaler was fitted with feature names\n",
      "  warnings.warn(\n",
      "C:\\Users\\ABHIRAJ\\Desktop\\MediaPipe\\ss\\Lib\\site-packages\\sklearn\\base.py:439: UserWarning: X does not have valid feature names, but StandardScaler was fitted with feature names\n",
      "  warnings.warn(\n",
      "C:\\Users\\ABHIRAJ\\Desktop\\MediaPipe\\ss\\Lib\\site-packages\\sklearn\\base.py:439: UserWarning: X does not have valid feature names, but StandardScaler was fitted with feature names\n",
      "  warnings.warn(\n"
     ]
    },
    {
     "name": "stdout",
     "output_type": "stream",
     "text": [
      "Victory [0.31 0.21 0.48]\n",
      "Victory [0.37 0.18 0.45]\n"
     ]
    },
    {
     "name": "stderr",
     "output_type": "stream",
     "text": [
      "C:\\Users\\ABHIRAJ\\Desktop\\MediaPipe\\ss\\Lib\\site-packages\\sklearn\\base.py:439: UserWarning: X does not have valid feature names, but StandardScaler was fitted with feature names\n",
      "  warnings.warn(\n",
      "C:\\Users\\ABHIRAJ\\Desktop\\MediaPipe\\ss\\Lib\\site-packages\\sklearn\\base.py:439: UserWarning: X does not have valid feature names, but StandardScaler was fitted with feature names\n",
      "  warnings.warn(\n",
      "C:\\Users\\ABHIRAJ\\Desktop\\MediaPipe\\ss\\Lib\\site-packages\\sklearn\\base.py:439: UserWarning: X does not have valid feature names, but StandardScaler was fitted with feature names\n",
      "  warnings.warn(\n",
      "C:\\Users\\ABHIRAJ\\Desktop\\MediaPipe\\ss\\Lib\\site-packages\\sklearn\\base.py:439: UserWarning: X does not have valid feature names, but StandardScaler was fitted with feature names\n",
      "  warnings.warn(\n"
     ]
    },
    {
     "name": "stdout",
     "output_type": "stream",
     "text": [
      "Victory [0.39 0.19 0.42]\n",
      "Victory [0.39 0.19 0.42]\n"
     ]
    },
    {
     "name": "stderr",
     "output_type": "stream",
     "text": [
      "C:\\Users\\ABHIRAJ\\Desktop\\MediaPipe\\ss\\Lib\\site-packages\\sklearn\\base.py:439: UserWarning: X does not have valid feature names, but StandardScaler was fitted with feature names\n",
      "  warnings.warn(\n",
      "C:\\Users\\ABHIRAJ\\Desktop\\MediaPipe\\ss\\Lib\\site-packages\\sklearn\\base.py:439: UserWarning: X does not have valid feature names, but StandardScaler was fitted with feature names\n",
      "  warnings.warn(\n",
      "C:\\Users\\ABHIRAJ\\Desktop\\MediaPipe\\ss\\Lib\\site-packages\\sklearn\\base.py:439: UserWarning: X does not have valid feature names, but StandardScaler was fitted with feature names\n",
      "  warnings.warn(\n",
      "C:\\Users\\ABHIRAJ\\Desktop\\MediaPipe\\ss\\Lib\\site-packages\\sklearn\\base.py:439: UserWarning: X does not have valid feature names, but StandardScaler was fitted with feature names\n",
      "  warnings.warn(\n"
     ]
    },
    {
     "name": "stdout",
     "output_type": "stream",
     "text": [
      "Victory [0.39 0.19 0.42]\n",
      "Victory [0.39 0.19 0.42]\n"
     ]
    },
    {
     "name": "stderr",
     "output_type": "stream",
     "text": [
      "C:\\Users\\ABHIRAJ\\Desktop\\MediaPipe\\ss\\Lib\\site-packages\\sklearn\\base.py:439: UserWarning: X does not have valid feature names, but StandardScaler was fitted with feature names\n",
      "  warnings.warn(\n",
      "C:\\Users\\ABHIRAJ\\Desktop\\MediaPipe\\ss\\Lib\\site-packages\\sklearn\\base.py:439: UserWarning: X does not have valid feature names, but StandardScaler was fitted with feature names\n",
      "  warnings.warn(\n",
      "C:\\Users\\ABHIRAJ\\Desktop\\MediaPipe\\ss\\Lib\\site-packages\\sklearn\\base.py:439: UserWarning: X does not have valid feature names, but StandardScaler was fitted with feature names\n",
      "  warnings.warn(\n",
      "C:\\Users\\ABHIRAJ\\Desktop\\MediaPipe\\ss\\Lib\\site-packages\\sklearn\\base.py:439: UserWarning: X does not have valid feature names, but StandardScaler was fitted with feature names\n",
      "  warnings.warn(\n"
     ]
    },
    {
     "name": "stdout",
     "output_type": "stream",
     "text": [
      "Victory [0.39 0.19 0.42]\n",
      "Victory [0.39 0.19 0.42]\n"
     ]
    },
    {
     "name": "stderr",
     "output_type": "stream",
     "text": [
      "C:\\Users\\ABHIRAJ\\Desktop\\MediaPipe\\ss\\Lib\\site-packages\\sklearn\\base.py:439: UserWarning: X does not have valid feature names, but StandardScaler was fitted with feature names\n",
      "  warnings.warn(\n",
      "C:\\Users\\ABHIRAJ\\Desktop\\MediaPipe\\ss\\Lib\\site-packages\\sklearn\\base.py:439: UserWarning: X does not have valid feature names, but StandardScaler was fitted with feature names\n",
      "  warnings.warn(\n",
      "C:\\Users\\ABHIRAJ\\Desktop\\MediaPipe\\ss\\Lib\\site-packages\\sklearn\\base.py:439: UserWarning: X does not have valid feature names, but StandardScaler was fitted with feature names\n",
      "  warnings.warn(\n",
      "C:\\Users\\ABHIRAJ\\Desktop\\MediaPipe\\ss\\Lib\\site-packages\\sklearn\\base.py:439: UserWarning: X does not have valid feature names, but StandardScaler was fitted with feature names\n",
      "  warnings.warn(\n"
     ]
    },
    {
     "name": "stdout",
     "output_type": "stream",
     "text": [
      "Victory [0.4  0.19 0.41]\n",
      "Victory [0.4  0.19 0.41]\n"
     ]
    },
    {
     "name": "stderr",
     "output_type": "stream",
     "text": [
      "C:\\Users\\ABHIRAJ\\Desktop\\MediaPipe\\ss\\Lib\\site-packages\\sklearn\\base.py:439: UserWarning: X does not have valid feature names, but StandardScaler was fitted with feature names\n",
      "  warnings.warn(\n",
      "C:\\Users\\ABHIRAJ\\Desktop\\MediaPipe\\ss\\Lib\\site-packages\\sklearn\\base.py:439: UserWarning: X does not have valid feature names, but StandardScaler was fitted with feature names\n",
      "  warnings.warn(\n",
      "C:\\Users\\ABHIRAJ\\Desktop\\MediaPipe\\ss\\Lib\\site-packages\\sklearn\\base.py:439: UserWarning: X does not have valid feature names, but StandardScaler was fitted with feature names\n",
      "  warnings.warn(\n",
      "C:\\Users\\ABHIRAJ\\Desktop\\MediaPipe\\ss\\Lib\\site-packages\\sklearn\\base.py:439: UserWarning: X does not have valid feature names, but StandardScaler was fitted with feature names\n",
      "  warnings.warn(\n"
     ]
    },
    {
     "name": "stdout",
     "output_type": "stream",
     "text": [
      "Victory [0.4  0.19 0.41]\n",
      "Victory [0.4  0.19 0.41]\n"
     ]
    },
    {
     "name": "stderr",
     "output_type": "stream",
     "text": [
      "C:\\Users\\ABHIRAJ\\Desktop\\MediaPipe\\ss\\Lib\\site-packages\\sklearn\\base.py:439: UserWarning: X does not have valid feature names, but StandardScaler was fitted with feature names\n",
      "  warnings.warn(\n",
      "C:\\Users\\ABHIRAJ\\Desktop\\MediaPipe\\ss\\Lib\\site-packages\\sklearn\\base.py:439: UserWarning: X does not have valid feature names, but StandardScaler was fitted with feature names\n",
      "  warnings.warn(\n",
      "C:\\Users\\ABHIRAJ\\Desktop\\MediaPipe\\ss\\Lib\\site-packages\\sklearn\\base.py:439: UserWarning: X does not have valid feature names, but StandardScaler was fitted with feature names\n",
      "  warnings.warn(\n",
      "C:\\Users\\ABHIRAJ\\Desktop\\MediaPipe\\ss\\Lib\\site-packages\\sklearn\\base.py:439: UserWarning: X does not have valid feature names, but StandardScaler was fitted with feature names\n",
      "  warnings.warn(\n"
     ]
    },
    {
     "name": "stdout",
     "output_type": "stream",
     "text": [
      "Happy [0.41 0.19 0.4 ]\n",
      "Happy [0.42 0.19 0.39]\n"
     ]
    },
    {
     "name": "stderr",
     "output_type": "stream",
     "text": [
      "C:\\Users\\ABHIRAJ\\Desktop\\MediaPipe\\ss\\Lib\\site-packages\\sklearn\\base.py:439: UserWarning: X does not have valid feature names, but StandardScaler was fitted with feature names\n",
      "  warnings.warn(\n",
      "C:\\Users\\ABHIRAJ\\Desktop\\MediaPipe\\ss\\Lib\\site-packages\\sklearn\\base.py:439: UserWarning: X does not have valid feature names, but StandardScaler was fitted with feature names\n",
      "  warnings.warn(\n",
      "C:\\Users\\ABHIRAJ\\Desktop\\MediaPipe\\ss\\Lib\\site-packages\\sklearn\\base.py:439: UserWarning: X does not have valid feature names, but StandardScaler was fitted with feature names\n",
      "  warnings.warn(\n",
      "C:\\Users\\ABHIRAJ\\Desktop\\MediaPipe\\ss\\Lib\\site-packages\\sklearn\\base.py:439: UserWarning: X does not have valid feature names, but StandardScaler was fitted with feature names\n",
      "  warnings.warn(\n"
     ]
    },
    {
     "name": "stdout",
     "output_type": "stream",
     "text": [
      "Happy [0.42 0.19 0.39]\n",
      "Happy [0.42 0.2  0.38]\n"
     ]
    },
    {
     "name": "stderr",
     "output_type": "stream",
     "text": [
      "C:\\Users\\ABHIRAJ\\Desktop\\MediaPipe\\ss\\Lib\\site-packages\\sklearn\\base.py:439: UserWarning: X does not have valid feature names, but StandardScaler was fitted with feature names\n",
      "  warnings.warn(\n",
      "C:\\Users\\ABHIRAJ\\Desktop\\MediaPipe\\ss\\Lib\\site-packages\\sklearn\\base.py:439: UserWarning: X does not have valid feature names, but StandardScaler was fitted with feature names\n",
      "  warnings.warn(\n",
      "C:\\Users\\ABHIRAJ\\Desktop\\MediaPipe\\ss\\Lib\\site-packages\\sklearn\\base.py:439: UserWarning: X does not have valid feature names, but StandardScaler was fitted with feature names\n",
      "  warnings.warn(\n",
      "C:\\Users\\ABHIRAJ\\Desktop\\MediaPipe\\ss\\Lib\\site-packages\\sklearn\\base.py:439: UserWarning: X does not have valid feature names, but StandardScaler was fitted with feature names\n",
      "  warnings.warn(\n"
     ]
    },
    {
     "name": "stdout",
     "output_type": "stream",
     "text": [
      "Happy [0.42 0.2  0.38]\n",
      "Happy [0.42 0.2  0.38]\n"
     ]
    },
    {
     "name": "stderr",
     "output_type": "stream",
     "text": [
      "C:\\Users\\ABHIRAJ\\Desktop\\MediaPipe\\ss\\Lib\\site-packages\\sklearn\\base.py:439: UserWarning: X does not have valid feature names, but StandardScaler was fitted with feature names\n",
      "  warnings.warn(\n",
      "C:\\Users\\ABHIRAJ\\Desktop\\MediaPipe\\ss\\Lib\\site-packages\\sklearn\\base.py:439: UserWarning: X does not have valid feature names, but StandardScaler was fitted with feature names\n",
      "  warnings.warn(\n",
      "C:\\Users\\ABHIRAJ\\Desktop\\MediaPipe\\ss\\Lib\\site-packages\\sklearn\\base.py:439: UserWarning: X does not have valid feature names, but StandardScaler was fitted with feature names\n",
      "  warnings.warn(\n",
      "C:\\Users\\ABHIRAJ\\Desktop\\MediaPipe\\ss\\Lib\\site-packages\\sklearn\\base.py:439: UserWarning: X does not have valid feature names, but StandardScaler was fitted with feature names\n",
      "  warnings.warn(\n"
     ]
    },
    {
     "name": "stdout",
     "output_type": "stream",
     "text": [
      "Happy [0.42 0.2  0.38]\n",
      "Happy [0.42 0.2  0.38]\n"
     ]
    },
    {
     "name": "stderr",
     "output_type": "stream",
     "text": [
      "C:\\Users\\ABHIRAJ\\Desktop\\MediaPipe\\ss\\Lib\\site-packages\\sklearn\\base.py:439: UserWarning: X does not have valid feature names, but StandardScaler was fitted with feature names\n",
      "  warnings.warn(\n",
      "C:\\Users\\ABHIRAJ\\Desktop\\MediaPipe\\ss\\Lib\\site-packages\\sklearn\\base.py:439: UserWarning: X does not have valid feature names, but StandardScaler was fitted with feature names\n",
      "  warnings.warn(\n",
      "C:\\Users\\ABHIRAJ\\Desktop\\MediaPipe\\ss\\Lib\\site-packages\\sklearn\\base.py:439: UserWarning: X does not have valid feature names, but StandardScaler was fitted with feature names\n",
      "  warnings.warn(\n",
      "C:\\Users\\ABHIRAJ\\Desktop\\MediaPipe\\ss\\Lib\\site-packages\\sklearn\\base.py:439: UserWarning: X does not have valid feature names, but StandardScaler was fitted with feature names\n",
      "  warnings.warn(\n"
     ]
    },
    {
     "name": "stdout",
     "output_type": "stream",
     "text": [
      "Happy [0.42 0.2  0.38]\n",
      "Happy [0.43 0.21 0.36]\n"
     ]
    },
    {
     "name": "stderr",
     "output_type": "stream",
     "text": [
      "C:\\Users\\ABHIRAJ\\Desktop\\MediaPipe\\ss\\Lib\\site-packages\\sklearn\\base.py:439: UserWarning: X does not have valid feature names, but StandardScaler was fitted with feature names\n",
      "  warnings.warn(\n",
      "C:\\Users\\ABHIRAJ\\Desktop\\MediaPipe\\ss\\Lib\\site-packages\\sklearn\\base.py:439: UserWarning: X does not have valid feature names, but StandardScaler was fitted with feature names\n",
      "  warnings.warn(\n",
      "C:\\Users\\ABHIRAJ\\Desktop\\MediaPipe\\ss\\Lib\\site-packages\\sklearn\\base.py:439: UserWarning: X does not have valid feature names, but StandardScaler was fitted with feature names\n",
      "  warnings.warn(\n",
      "C:\\Users\\ABHIRAJ\\Desktop\\MediaPipe\\ss\\Lib\\site-packages\\sklearn\\base.py:439: UserWarning: X does not have valid feature names, but StandardScaler was fitted with feature names\n",
      "  warnings.warn(\n"
     ]
    },
    {
     "name": "stdout",
     "output_type": "stream",
     "text": [
      "Happy [0.44 0.21 0.35]\n",
      "Happy [0.44 0.21 0.35]\n"
     ]
    },
    {
     "name": "stderr",
     "output_type": "stream",
     "text": [
      "C:\\Users\\ABHIRAJ\\Desktop\\MediaPipe\\ss\\Lib\\site-packages\\sklearn\\base.py:439: UserWarning: X does not have valid feature names, but StandardScaler was fitted with feature names\n",
      "  warnings.warn(\n",
      "C:\\Users\\ABHIRAJ\\Desktop\\MediaPipe\\ss\\Lib\\site-packages\\sklearn\\base.py:439: UserWarning: X does not have valid feature names, but StandardScaler was fitted with feature names\n",
      "  warnings.warn(\n",
      "C:\\Users\\ABHIRAJ\\Desktop\\MediaPipe\\ss\\Lib\\site-packages\\sklearn\\base.py:439: UserWarning: X does not have valid feature names, but StandardScaler was fitted with feature names\n",
      "  warnings.warn(\n",
      "C:\\Users\\ABHIRAJ\\Desktop\\MediaPipe\\ss\\Lib\\site-packages\\sklearn\\base.py:439: UserWarning: X does not have valid feature names, but StandardScaler was fitted with feature names\n",
      "  warnings.warn(\n"
     ]
    },
    {
     "name": "stdout",
     "output_type": "stream",
     "text": [
      "Happy [0.43 0.22 0.35]\n",
      "Happy [0.43 0.22 0.35]\n"
     ]
    },
    {
     "name": "stderr",
     "output_type": "stream",
     "text": [
      "C:\\Users\\ABHIRAJ\\Desktop\\MediaPipe\\ss\\Lib\\site-packages\\sklearn\\base.py:439: UserWarning: X does not have valid feature names, but StandardScaler was fitted with feature names\n",
      "  warnings.warn(\n",
      "C:\\Users\\ABHIRAJ\\Desktop\\MediaPipe\\ss\\Lib\\site-packages\\sklearn\\base.py:439: UserWarning: X does not have valid feature names, but StandardScaler was fitted with feature names\n",
      "  warnings.warn(\n",
      "C:\\Users\\ABHIRAJ\\Desktop\\MediaPipe\\ss\\Lib\\site-packages\\sklearn\\base.py:439: UserWarning: X does not have valid feature names, but StandardScaler was fitted with feature names\n",
      "  warnings.warn(\n",
      "C:\\Users\\ABHIRAJ\\Desktop\\MediaPipe\\ss\\Lib\\site-packages\\sklearn\\base.py:439: UserWarning: X does not have valid feature names, but StandardScaler was fitted with feature names\n",
      "  warnings.warn(\n"
     ]
    },
    {
     "name": "stdout",
     "output_type": "stream",
     "text": [
      "Happy [0.44 0.2  0.36]\n",
      "Happy [0.44 0.2  0.36]\n"
     ]
    },
    {
     "name": "stderr",
     "output_type": "stream",
     "text": [
      "C:\\Users\\ABHIRAJ\\Desktop\\MediaPipe\\ss\\Lib\\site-packages\\sklearn\\base.py:439: UserWarning: X does not have valid feature names, but StandardScaler was fitted with feature names\n",
      "  warnings.warn(\n",
      "C:\\Users\\ABHIRAJ\\Desktop\\MediaPipe\\ss\\Lib\\site-packages\\sklearn\\base.py:439: UserWarning: X does not have valid feature names, but StandardScaler was fitted with feature names\n",
      "  warnings.warn(\n",
      "C:\\Users\\ABHIRAJ\\Desktop\\MediaPipe\\ss\\Lib\\site-packages\\sklearn\\base.py:439: UserWarning: X does not have valid feature names, but StandardScaler was fitted with feature names\n",
      "  warnings.warn(\n",
      "C:\\Users\\ABHIRAJ\\Desktop\\MediaPipe\\ss\\Lib\\site-packages\\sklearn\\base.py:439: UserWarning: X does not have valid feature names, but StandardScaler was fitted with feature names\n",
      "  warnings.warn(\n"
     ]
    },
    {
     "name": "stdout",
     "output_type": "stream",
     "text": [
      "Happy [0.44 0.21 0.35]\n",
      "Happy [0.43 0.21 0.36]\n"
     ]
    },
    {
     "name": "stderr",
     "output_type": "stream",
     "text": [
      "C:\\Users\\ABHIRAJ\\Desktop\\MediaPipe\\ss\\Lib\\site-packages\\sklearn\\base.py:439: UserWarning: X does not have valid feature names, but StandardScaler was fitted with feature names\n",
      "  warnings.warn(\n",
      "C:\\Users\\ABHIRAJ\\Desktop\\MediaPipe\\ss\\Lib\\site-packages\\sklearn\\base.py:439: UserWarning: X does not have valid feature names, but StandardScaler was fitted with feature names\n",
      "  warnings.warn(\n",
      "C:\\Users\\ABHIRAJ\\Desktop\\MediaPipe\\ss\\Lib\\site-packages\\sklearn\\base.py:439: UserWarning: X does not have valid feature names, but StandardScaler was fitted with feature names\n",
      "  warnings.warn(\n",
      "C:\\Users\\ABHIRAJ\\Desktop\\MediaPipe\\ss\\Lib\\site-packages\\sklearn\\base.py:439: UserWarning: X does not have valid feature names, but StandardScaler was fitted with feature names\n",
      "  warnings.warn(\n",
      "C:\\Users\\ABHIRAJ\\Desktop\\MediaPipe\\ss\\Lib\\site-packages\\sklearn\\base.py:439: UserWarning: X does not have valid feature names, but StandardScaler was fitted with feature names\n",
      "  warnings.warn(\n"
     ]
    },
    {
     "name": "stdout",
     "output_type": "stream",
     "text": [
      "Happy [0.43 0.22 0.35]\n",
      "Happy [0.43 0.22 0.35]\n"
     ]
    },
    {
     "name": "stderr",
     "output_type": "stream",
     "text": [
      "C:\\Users\\ABHIRAJ\\Desktop\\MediaPipe\\ss\\Lib\\site-packages\\sklearn\\base.py:439: UserWarning: X does not have valid feature names, but StandardScaler was fitted with feature names\n",
      "  warnings.warn(\n"
     ]
    },
    {
     "name": "stdout",
     "output_type": "stream",
     "text": [
      "Happy [0.41 0.21 0.38]\n"
     ]
    },
    {
     "name": "stderr",
     "output_type": "stream",
     "text": [
      "C:\\Users\\ABHIRAJ\\Desktop\\MediaPipe\\ss\\Lib\\site-packages\\sklearn\\base.py:439: UserWarning: X does not have valid feature names, but StandardScaler was fitted with feature names\n",
      "  warnings.warn(\n",
      "C:\\Users\\ABHIRAJ\\Desktop\\MediaPipe\\ss\\Lib\\site-packages\\sklearn\\base.py:439: UserWarning: X does not have valid feature names, but StandardScaler was fitted with feature names\n",
      "  warnings.warn(\n",
      "C:\\Users\\ABHIRAJ\\Desktop\\MediaPipe\\ss\\Lib\\site-packages\\sklearn\\base.py:439: UserWarning: X does not have valid feature names, but StandardScaler was fitted with feature names\n",
      "  warnings.warn(\n",
      "C:\\Users\\ABHIRAJ\\Desktop\\MediaPipe\\ss\\Lib\\site-packages\\sklearn\\base.py:439: UserWarning: X does not have valid feature names, but StandardScaler was fitted with feature names\n",
      "  warnings.warn(\n"
     ]
    },
    {
     "name": "stdout",
     "output_type": "stream",
     "text": [
      "Happy [0.44 0.21 0.35]\n",
      "Victory [0.08 0.2  0.72]\n"
     ]
    },
    {
     "name": "stderr",
     "output_type": "stream",
     "text": [
      "C:\\Users\\ABHIRAJ\\Desktop\\MediaPipe\\ss\\Lib\\site-packages\\sklearn\\base.py:439: UserWarning: X does not have valid feature names, but StandardScaler was fitted with feature names\n",
      "  warnings.warn(\n",
      "C:\\Users\\ABHIRAJ\\Desktop\\MediaPipe\\ss\\Lib\\site-packages\\sklearn\\base.py:439: UserWarning: X does not have valid feature names, but StandardScaler was fitted with feature names\n",
      "  warnings.warn(\n",
      "C:\\Users\\ABHIRAJ\\Desktop\\MediaPipe\\ss\\Lib\\site-packages\\sklearn\\base.py:439: UserWarning: X does not have valid feature names, but StandardScaler was fitted with feature names\n",
      "  warnings.warn(\n",
      "C:\\Users\\ABHIRAJ\\Desktop\\MediaPipe\\ss\\Lib\\site-packages\\sklearn\\base.py:439: UserWarning: X does not have valid feature names, but StandardScaler was fitted with feature names\n",
      "  warnings.warn(\n"
     ]
    },
    {
     "name": "stdout",
     "output_type": "stream",
     "text": [
      "Victory [0.09 0.21 0.7 ]\n",
      "Victory [0.11 0.24 0.65]\n"
     ]
    },
    {
     "name": "stderr",
     "output_type": "stream",
     "text": [
      "C:\\Users\\ABHIRAJ\\Desktop\\MediaPipe\\ss\\Lib\\site-packages\\sklearn\\base.py:439: UserWarning: X does not have valid feature names, but StandardScaler was fitted with feature names\n",
      "  warnings.warn(\n",
      "C:\\Users\\ABHIRAJ\\Desktop\\MediaPipe\\ss\\Lib\\site-packages\\sklearn\\base.py:439: UserWarning: X does not have valid feature names, but StandardScaler was fitted with feature names\n",
      "  warnings.warn(\n",
      "C:\\Users\\ABHIRAJ\\Desktop\\MediaPipe\\ss\\Lib\\site-packages\\sklearn\\base.py:439: UserWarning: X does not have valid feature names, but StandardScaler was fitted with feature names\n",
      "  warnings.warn(\n",
      "C:\\Users\\ABHIRAJ\\Desktop\\MediaPipe\\ss\\Lib\\site-packages\\sklearn\\base.py:439: UserWarning: X does not have valid feature names, but StandardScaler was fitted with feature names\n",
      "  warnings.warn(\n"
     ]
    },
    {
     "name": "stdout",
     "output_type": "stream",
     "text": [
      "Victory [0.11 0.24 0.65]\n",
      "Victory [0.1  0.23 0.67]\n"
     ]
    },
    {
     "name": "stderr",
     "output_type": "stream",
     "text": [
      "C:\\Users\\ABHIRAJ\\Desktop\\MediaPipe\\ss\\Lib\\site-packages\\sklearn\\base.py:439: UserWarning: X does not have valid feature names, but StandardScaler was fitted with feature names\n",
      "  warnings.warn(\n",
      "C:\\Users\\ABHIRAJ\\Desktop\\MediaPipe\\ss\\Lib\\site-packages\\sklearn\\base.py:439: UserWarning: X does not have valid feature names, but StandardScaler was fitted with feature names\n",
      "  warnings.warn(\n",
      "C:\\Users\\ABHIRAJ\\Desktop\\MediaPipe\\ss\\Lib\\site-packages\\sklearn\\base.py:439: UserWarning: X does not have valid feature names, but StandardScaler was fitted with feature names\n",
      "  warnings.warn(\n",
      "C:\\Users\\ABHIRAJ\\Desktop\\MediaPipe\\ss\\Lib\\site-packages\\sklearn\\base.py:439: UserWarning: X does not have valid feature names, but StandardScaler was fitted with feature names\n",
      "  warnings.warn(\n"
     ]
    },
    {
     "name": "stdout",
     "output_type": "stream",
     "text": [
      "Victory [0.11 0.23 0.66]\n",
      "Victory [0.11 0.23 0.66]\n"
     ]
    },
    {
     "name": "stderr",
     "output_type": "stream",
     "text": [
      "C:\\Users\\ABHIRAJ\\Desktop\\MediaPipe\\ss\\Lib\\site-packages\\sklearn\\base.py:439: UserWarning: X does not have valid feature names, but StandardScaler was fitted with feature names\n",
      "  warnings.warn(\n",
      "C:\\Users\\ABHIRAJ\\Desktop\\MediaPipe\\ss\\Lib\\site-packages\\sklearn\\base.py:439: UserWarning: X does not have valid feature names, but StandardScaler was fitted with feature names\n",
      "  warnings.warn(\n",
      "C:\\Users\\ABHIRAJ\\Desktop\\MediaPipe\\ss\\Lib\\site-packages\\sklearn\\base.py:439: UserWarning: X does not have valid feature names, but StandardScaler was fitted with feature names\n",
      "  warnings.warn(\n",
      "C:\\Users\\ABHIRAJ\\Desktop\\MediaPipe\\ss\\Lib\\site-packages\\sklearn\\base.py:439: UserWarning: X does not have valid feature names, but StandardScaler was fitted with feature names\n",
      "  warnings.warn(\n"
     ]
    },
    {
     "name": "stdout",
     "output_type": "stream",
     "text": [
      "Victory [0.09 0.25 0.66]\n",
      "Victory [0.09 0.23 0.68]\n"
     ]
    },
    {
     "name": "stderr",
     "output_type": "stream",
     "text": [
      "C:\\Users\\ABHIRAJ\\Desktop\\MediaPipe\\ss\\Lib\\site-packages\\sklearn\\base.py:439: UserWarning: X does not have valid feature names, but StandardScaler was fitted with feature names\n",
      "  warnings.warn(\n",
      "C:\\Users\\ABHIRAJ\\Desktop\\MediaPipe\\ss\\Lib\\site-packages\\sklearn\\base.py:439: UserWarning: X does not have valid feature names, but StandardScaler was fitted with feature names\n",
      "  warnings.warn(\n",
      "C:\\Users\\ABHIRAJ\\Desktop\\MediaPipe\\ss\\Lib\\site-packages\\sklearn\\base.py:439: UserWarning: X does not have valid feature names, but StandardScaler was fitted with feature names\n",
      "  warnings.warn(\n",
      "C:\\Users\\ABHIRAJ\\Desktop\\MediaPipe\\ss\\Lib\\site-packages\\sklearn\\base.py:439: UserWarning: X does not have valid feature names, but StandardScaler was fitted with feature names\n",
      "  warnings.warn(\n"
     ]
    },
    {
     "name": "stdout",
     "output_type": "stream",
     "text": [
      "Victory [0.08 0.22 0.7 ]\n",
      "Victory [0.08 0.22 0.7 ]\n"
     ]
    },
    {
     "name": "stderr",
     "output_type": "stream",
     "text": [
      "C:\\Users\\ABHIRAJ\\Desktop\\MediaPipe\\ss\\Lib\\site-packages\\sklearn\\base.py:439: UserWarning: X does not have valid feature names, but StandardScaler was fitted with feature names\n",
      "  warnings.warn(\n",
      "C:\\Users\\ABHIRAJ\\Desktop\\MediaPipe\\ss\\Lib\\site-packages\\sklearn\\base.py:439: UserWarning: X does not have valid feature names, but StandardScaler was fitted with feature names\n",
      "  warnings.warn(\n",
      "C:\\Users\\ABHIRAJ\\Desktop\\MediaPipe\\ss\\Lib\\site-packages\\sklearn\\base.py:439: UserWarning: X does not have valid feature names, but StandardScaler was fitted with feature names\n",
      "  warnings.warn(\n",
      "C:\\Users\\ABHIRAJ\\Desktop\\MediaPipe\\ss\\Lib\\site-packages\\sklearn\\base.py:439: UserWarning: X does not have valid feature names, but StandardScaler was fitted with feature names\n",
      "  warnings.warn(\n"
     ]
    },
    {
     "name": "stdout",
     "output_type": "stream",
     "text": [
      "Victory [0.08 0.23 0.69]\n",
      "Victory [0.09 0.3  0.61]\n"
     ]
    },
    {
     "name": "stderr",
     "output_type": "stream",
     "text": [
      "C:\\Users\\ABHIRAJ\\Desktop\\MediaPipe\\ss\\Lib\\site-packages\\sklearn\\base.py:439: UserWarning: X does not have valid feature names, but StandardScaler was fitted with feature names\n",
      "  warnings.warn(\n",
      "C:\\Users\\ABHIRAJ\\Desktop\\MediaPipe\\ss\\Lib\\site-packages\\sklearn\\base.py:439: UserWarning: X does not have valid feature names, but StandardScaler was fitted with feature names\n",
      "  warnings.warn(\n",
      "C:\\Users\\ABHIRAJ\\Desktop\\MediaPipe\\ss\\Lib\\site-packages\\sklearn\\base.py:439: UserWarning: X does not have valid feature names, but StandardScaler was fitted with feature names\n",
      "  warnings.warn(\n",
      "C:\\Users\\ABHIRAJ\\Desktop\\MediaPipe\\ss\\Lib\\site-packages\\sklearn\\base.py:439: UserWarning: X does not have valid feature names, but StandardScaler was fitted with feature names\n",
      "  warnings.warn(\n"
     ]
    },
    {
     "name": "stdout",
     "output_type": "stream",
     "text": [
      "Victory [0.09 0.28 0.63]\n",
      "Victory [0.06 0.35 0.59]\n"
     ]
    },
    {
     "name": "stderr",
     "output_type": "stream",
     "text": [
      "C:\\Users\\ABHIRAJ\\Desktop\\MediaPipe\\ss\\Lib\\site-packages\\sklearn\\base.py:439: UserWarning: X does not have valid feature names, but StandardScaler was fitted with feature names\n",
      "  warnings.warn(\n",
      "C:\\Users\\ABHIRAJ\\Desktop\\MediaPipe\\ss\\Lib\\site-packages\\sklearn\\base.py:439: UserWarning: X does not have valid feature names, but StandardScaler was fitted with feature names\n",
      "  warnings.warn(\n"
     ]
    },
    {
     "name": "stdout",
     "output_type": "stream",
     "text": [
      "Victory [0.07 0.36 0.57]\n"
     ]
    }
   ],
   "source": [
    "cap = cv2.VideoCapture(0)\n",
    "with mp_holistic.Holistic(min_detection_confidence=0.5, min_tracking_confidence=0.5) as holistic:\n",
    "    while cap.isOpened():\n",
    "        ret, frame = cap.read()\n",
    "        image = cv2.cvtColor(frame, cv2.COLOR_BGR2RGB)\n",
    "        results = holistic.process(image)\n",
    "        \n",
    "        \n",
    "        image =  cv2.cvtColor(frame, cv2.COLOR_BGR2RGB)\n",
    "        mp_drawing.draw_landmarks(image, results.face_landmarks, mp_holistic.FACEMESH_CONTOURS)\n",
    "        mp_drawing.draw_landmarks(image, results.right_hand_landmarks, mp_holistic.HAND_CONNECTIONS)\n",
    "        mp_drawing.draw_landmarks(image, results.left_hand_landmarks, mp_holistic.HAND_CONNECTIONS)\n",
    "        mp_drawing.draw_landmarks(image, results.pose_landmarks, mp_holistic.POSE_CONNECTIONS)\n",
    "        \n",
    "        \n",
    "        try:\n",
    "            pose = results.pose_landmarks.landmark\n",
    "            pose_row = list(np.array([[landmark.x, landmark.y, landmark.z, landmark.visibility] for landmark in pose]).flatten())\n",
    "            \n",
    "            face = results.face_landmarks.landmark\n",
    "            face_row = list(np.array([[landmark.x, landmark.y, landmark.z, landmark.visibility] for landmark in face]).flatten())\n",
    "            \n",
    "            row = face_row + pose_row\n",
    "           # row.insert(0, class_name)\n",
    "            \n",
    "            # with open('coord.csv', mode='a', newline='') as f:\n",
    "             #   csv_writer = csv.writer(f, delimiter=',', quotechar='\"', quoting=csv.QUOTE_MINIMAL)\n",
    "              #  csv_writer.writerow(row)\n",
    "            \n",
    "            X = pd.DataFrame([row])\n",
    "            body_language_class = model.predict(X)[0]\n",
    "            body_language_prob = model.predict_proba(X)[0]\n",
    "            print(body_language_class, body_language_prob)\n",
    "            \n",
    "            # Grab ear coords\n",
    "            coords = tuple(np.multiply(\n",
    "                            np.array(\n",
    "                                (results.pose_landmarks.landmark[mp_holistic.PoseLandmark.LEFT_EAR].x, \n",
    "                                 results.pose_landmarks.landmark[mp_holistic.PoseLandmark.LEFT_EAR].y))\n",
    "                        , [640,480]).astype(int))\n",
    "            \n",
    "            cv2.rectangle(image, \n",
    "                          (coords[0], coords[1]+5), \n",
    "                          (coords[0]+len(body_language_class)*20, coords[1]-30), \n",
    "                          (245, 117, 16), -1)\n",
    "            cv2.putText(image, body_language_class, coords, \n",
    "                        cv2.FONT_HERSHEY_SIMPLEX, 1, (255, 255, 255), 2, cv2.LINE_AA)\n",
    "        \n",
    "        \n",
    "        except:\n",
    "            pass\n",
    "        \n",
    "        \n",
    "        cv2.imshow('wir bauen maschinen', image)\n",
    "        \n",
    "        if cv2.waitKey(10) & 0xff == ord('q'):\n",
    "            break\n",
    "            \n",
    "cap.release()\n",
    "cv2.destroyAllWindows()"
   ]
  },
  {
   "cell_type": "code",
   "execution_count": 134,
   "id": "85111fdb",
   "metadata": {},
   "outputs": [],
   "source": [
    "pose = results.pose_landmarks.landmark\n",
    "pose_row = list(np.array([[landmark.x, landmark.y, landmark.z, landmark.visibility] for landmark in pose]).flatten())\n",
    "face = results.face_landmarks.landmark\n",
    "face_row = list(np.array([[landmark.x, landmark.y, landmark.z, landmark.visibility] for landmark in face]).flatten())\n",
    "row = face_row + pose_row    "
   ]
  },
  {
   "cell_type": "code",
   "execution_count": 135,
   "id": "55fdac69",
   "metadata": {},
   "outputs": [],
   "source": [
    "  X = pd.DataFrame([row])"
   ]
  },
  {
   "cell_type": "code",
   "execution_count": 136,
   "id": "6899495b",
   "metadata": {},
   "outputs": [
    {
     "data": {
      "text/html": [
       "<div>\n",
       "<style scoped>\n",
       "    .dataframe tbody tr th:only-of-type {\n",
       "        vertical-align: middle;\n",
       "    }\n",
       "\n",
       "    .dataframe tbody tr th {\n",
       "        vertical-align: top;\n",
       "    }\n",
       "\n",
       "    .dataframe thead th {\n",
       "        text-align: right;\n",
       "    }\n",
       "</style>\n",
       "<table border=\"1\" class=\"dataframe\">\n",
       "  <thead>\n",
       "    <tr style=\"text-align: right;\">\n",
       "      <th></th>\n",
       "      <th>x1</th>\n",
       "      <th>y1</th>\n",
       "      <th>z1</th>\n",
       "      <th>v1</th>\n",
       "      <th>x2</th>\n",
       "      <th>y2</th>\n",
       "      <th>z2</th>\n",
       "      <th>v2</th>\n",
       "      <th>x3</th>\n",
       "      <th>y3</th>\n",
       "      <th>...</th>\n",
       "      <th>z499</th>\n",
       "      <th>v499</th>\n",
       "      <th>x500</th>\n",
       "      <th>y500</th>\n",
       "      <th>z500</th>\n",
       "      <th>v500</th>\n",
       "      <th>x501</th>\n",
       "      <th>y501</th>\n",
       "      <th>z501</th>\n",
       "      <th>v501</th>\n",
       "    </tr>\n",
       "  </thead>\n",
       "  <tbody>\n",
       "    <tr>\n",
       "      <th>0</th>\n",
       "      <td>0.547131</td>\n",
       "      <td>0.724928</td>\n",
       "      <td>-0.028416</td>\n",
       "      <td>0.0</td>\n",
       "      <td>0.544718</td>\n",
       "      <td>0.678283</td>\n",
       "      <td>-0.050843</td>\n",
       "      <td>0.0</td>\n",
       "      <td>0.544747</td>\n",
       "      <td>0.693420</td>\n",
       "      <td>...</td>\n",
       "      <td>0.202666</td>\n",
       "      <td>0.000002</td>\n",
       "      <td>0.649465</td>\n",
       "      <td>3.068984</td>\n",
       "      <td>-0.164984</td>\n",
       "      <td>0.000032</td>\n",
       "      <td>0.470089</td>\n",
       "      <td>3.057953</td>\n",
       "      <td>-0.393611</td>\n",
       "      <td>0.000010</td>\n",
       "    </tr>\n",
       "    <tr>\n",
       "      <th>1</th>\n",
       "      <td>0.549883</td>\n",
       "      <td>0.722531</td>\n",
       "      <td>-0.030778</td>\n",
       "      <td>0.0</td>\n",
       "      <td>0.548051</td>\n",
       "      <td>0.674411</td>\n",
       "      <td>-0.052304</td>\n",
       "      <td>0.0</td>\n",
       "      <td>0.547792</td>\n",
       "      <td>0.690567</td>\n",
       "      <td>...</td>\n",
       "      <td>0.212661</td>\n",
       "      <td>0.000004</td>\n",
       "      <td>0.657304</td>\n",
       "      <td>3.105280</td>\n",
       "      <td>-0.169141</td>\n",
       "      <td>0.000038</td>\n",
       "      <td>0.474488</td>\n",
       "      <td>3.081895</td>\n",
       "      <td>-0.439254</td>\n",
       "      <td>0.000017</td>\n",
       "    </tr>\n",
       "    <tr>\n",
       "      <th>2</th>\n",
       "      <td>0.549482</td>\n",
       "      <td>0.723379</td>\n",
       "      <td>-0.029957</td>\n",
       "      <td>0.0</td>\n",
       "      <td>0.547660</td>\n",
       "      <td>0.675722</td>\n",
       "      <td>-0.052029</td>\n",
       "      <td>0.0</td>\n",
       "      <td>0.547431</td>\n",
       "      <td>0.691448</td>\n",
       "      <td>...</td>\n",
       "      <td>0.342310</td>\n",
       "      <td>0.000006</td>\n",
       "      <td>0.656353</td>\n",
       "      <td>3.122153</td>\n",
       "      <td>-0.082582</td>\n",
       "      <td>0.000042</td>\n",
       "      <td>0.473713</td>\n",
       "      <td>3.095768</td>\n",
       "      <td>-0.336436</td>\n",
       "      <td>0.000021</td>\n",
       "    </tr>\n",
       "    <tr>\n",
       "      <th>3</th>\n",
       "      <td>0.550207</td>\n",
       "      <td>0.722998</td>\n",
       "      <td>-0.030176</td>\n",
       "      <td>0.0</td>\n",
       "      <td>0.548378</td>\n",
       "      <td>0.675400</td>\n",
       "      <td>-0.052412</td>\n",
       "      <td>0.0</td>\n",
       "      <td>0.548038</td>\n",
       "      <td>0.690934</td>\n",
       "      <td>...</td>\n",
       "      <td>0.306131</td>\n",
       "      <td>0.000008</td>\n",
       "      <td>0.657192</td>\n",
       "      <td>3.123646</td>\n",
       "      <td>-0.100293</td>\n",
       "      <td>0.000048</td>\n",
       "      <td>0.475507</td>\n",
       "      <td>3.097245</td>\n",
       "      <td>-0.340493</td>\n",
       "      <td>0.000026</td>\n",
       "    </tr>\n",
       "    <tr>\n",
       "      <th>4</th>\n",
       "      <td>0.550555</td>\n",
       "      <td>0.723170</td>\n",
       "      <td>-0.030180</td>\n",
       "      <td>0.0</td>\n",
       "      <td>0.548819</td>\n",
       "      <td>0.675114</td>\n",
       "      <td>-0.052538</td>\n",
       "      <td>0.0</td>\n",
       "      <td>0.548441</td>\n",
       "      <td>0.690810</td>\n",
       "      <td>...</td>\n",
       "      <td>0.479969</td>\n",
       "      <td>0.000010</td>\n",
       "      <td>0.657317</td>\n",
       "      <td>3.137843</td>\n",
       "      <td>0.007543</td>\n",
       "      <td>0.000052</td>\n",
       "      <td>0.476645</td>\n",
       "      <td>3.116708</td>\n",
       "      <td>-0.191758</td>\n",
       "      <td>0.000030</td>\n",
       "    </tr>\n",
       "    <tr>\n",
       "      <th>...</th>\n",
       "      <td>...</td>\n",
       "      <td>...</td>\n",
       "      <td>...</td>\n",
       "      <td>...</td>\n",
       "      <td>...</td>\n",
       "      <td>...</td>\n",
       "      <td>...</td>\n",
       "      <td>...</td>\n",
       "      <td>...</td>\n",
       "      <td>...</td>\n",
       "      <td>...</td>\n",
       "      <td>...</td>\n",
       "      <td>...</td>\n",
       "      <td>...</td>\n",
       "      <td>...</td>\n",
       "      <td>...</td>\n",
       "      <td>...</td>\n",
       "      <td>...</td>\n",
       "      <td>...</td>\n",
       "      <td>...</td>\n",
       "      <td>...</td>\n",
       "    </tr>\n",
       "    <tr>\n",
       "      <th>379</th>\n",
       "      <td>0.551168</td>\n",
       "      <td>0.820503</td>\n",
       "      <td>-0.027043</td>\n",
       "      <td>0.0</td>\n",
       "      <td>0.548069</td>\n",
       "      <td>0.774930</td>\n",
       "      <td>-0.052332</td>\n",
       "      <td>0.0</td>\n",
       "      <td>0.548617</td>\n",
       "      <td>0.788760</td>\n",
       "      <td>...</td>\n",
       "      <td>0.329795</td>\n",
       "      <td>0.001062</td>\n",
       "      <td>0.722219</td>\n",
       "      <td>3.337527</td>\n",
       "      <td>-0.322938</td>\n",
       "      <td>0.001010</td>\n",
       "      <td>0.520622</td>\n",
       "      <td>3.337428</td>\n",
       "      <td>-0.350937</td>\n",
       "      <td>0.001136</td>\n",
       "    </tr>\n",
       "    <tr>\n",
       "      <th>380</th>\n",
       "      <td>0.555279</td>\n",
       "      <td>0.828663</td>\n",
       "      <td>-0.025550</td>\n",
       "      <td>0.0</td>\n",
       "      <td>0.552398</td>\n",
       "      <td>0.782844</td>\n",
       "      <td>-0.052205</td>\n",
       "      <td>0.0</td>\n",
       "      <td>0.552757</td>\n",
       "      <td>0.796161</td>\n",
       "      <td>...</td>\n",
       "      <td>0.179033</td>\n",
       "      <td>0.000957</td>\n",
       "      <td>0.690909</td>\n",
       "      <td>3.334619</td>\n",
       "      <td>-0.417070</td>\n",
       "      <td>0.000912</td>\n",
       "      <td>0.490363</td>\n",
       "      <td>3.328841</td>\n",
       "      <td>-0.557272</td>\n",
       "      <td>0.001024</td>\n",
       "    </tr>\n",
       "    <tr>\n",
       "      <th>381</th>\n",
       "      <td>0.555263</td>\n",
       "      <td>0.820308</td>\n",
       "      <td>-0.028019</td>\n",
       "      <td>0.0</td>\n",
       "      <td>0.552361</td>\n",
       "      <td>0.774119</td>\n",
       "      <td>-0.051575</td>\n",
       "      <td>0.0</td>\n",
       "      <td>0.552840</td>\n",
       "      <td>0.788678</td>\n",
       "      <td>...</td>\n",
       "      <td>0.182173</td>\n",
       "      <td>0.000864</td>\n",
       "      <td>0.694402</td>\n",
       "      <td>3.363317</td>\n",
       "      <td>-0.430986</td>\n",
       "      <td>0.000828</td>\n",
       "      <td>0.502896</td>\n",
       "      <td>3.358914</td>\n",
       "      <td>-0.529971</td>\n",
       "      <td>0.000930</td>\n",
       "    </tr>\n",
       "    <tr>\n",
       "      <th>382</th>\n",
       "      <td>0.557934</td>\n",
       "      <td>0.819479</td>\n",
       "      <td>-0.027461</td>\n",
       "      <td>0.0</td>\n",
       "      <td>0.555785</td>\n",
       "      <td>0.772783</td>\n",
       "      <td>-0.052723</td>\n",
       "      <td>0.0</td>\n",
       "      <td>0.555841</td>\n",
       "      <td>0.787155</td>\n",
       "      <td>...</td>\n",
       "      <td>0.209458</td>\n",
       "      <td>0.000779</td>\n",
       "      <td>0.697666</td>\n",
       "      <td>3.374440</td>\n",
       "      <td>-0.382142</td>\n",
       "      <td>0.000750</td>\n",
       "      <td>0.501688</td>\n",
       "      <td>3.366139</td>\n",
       "      <td>-0.519904</td>\n",
       "      <td>0.000841</td>\n",
       "    </tr>\n",
       "    <tr>\n",
       "      <th>383</th>\n",
       "      <td>0.561287</td>\n",
       "      <td>0.820966</td>\n",
       "      <td>-0.026889</td>\n",
       "      <td>0.0</td>\n",
       "      <td>0.558755</td>\n",
       "      <td>0.775524</td>\n",
       "      <td>-0.052493</td>\n",
       "      <td>0.0</td>\n",
       "      <td>0.558799</td>\n",
       "      <td>0.789434</td>\n",
       "      <td>...</td>\n",
       "      <td>0.176427</td>\n",
       "      <td>0.000702</td>\n",
       "      <td>0.695903</td>\n",
       "      <td>3.383806</td>\n",
       "      <td>-0.394095</td>\n",
       "      <td>0.000681</td>\n",
       "      <td>0.497355</td>\n",
       "      <td>3.373575</td>\n",
       "      <td>-0.536701</td>\n",
       "      <td>0.000762</td>\n",
       "    </tr>\n",
       "  </tbody>\n",
       "</table>\n",
       "<p>384 rows × 2004 columns</p>\n",
       "</div>"
      ],
      "text/plain": [
       "           x1        y1        z1   v1        x2        y2        z2   v2  \\\n",
       "0    0.547131  0.724928 -0.028416  0.0  0.544718  0.678283 -0.050843  0.0   \n",
       "1    0.549883  0.722531 -0.030778  0.0  0.548051  0.674411 -0.052304  0.0   \n",
       "2    0.549482  0.723379 -0.029957  0.0  0.547660  0.675722 -0.052029  0.0   \n",
       "3    0.550207  0.722998 -0.030176  0.0  0.548378  0.675400 -0.052412  0.0   \n",
       "4    0.550555  0.723170 -0.030180  0.0  0.548819  0.675114 -0.052538  0.0   \n",
       "..        ...       ...       ...  ...       ...       ...       ...  ...   \n",
       "379  0.551168  0.820503 -0.027043  0.0  0.548069  0.774930 -0.052332  0.0   \n",
       "380  0.555279  0.828663 -0.025550  0.0  0.552398  0.782844 -0.052205  0.0   \n",
       "381  0.555263  0.820308 -0.028019  0.0  0.552361  0.774119 -0.051575  0.0   \n",
       "382  0.557934  0.819479 -0.027461  0.0  0.555785  0.772783 -0.052723  0.0   \n",
       "383  0.561287  0.820966 -0.026889  0.0  0.558755  0.775524 -0.052493  0.0   \n",
       "\n",
       "           x3        y3  ...      z499      v499      x500      y500  \\\n",
       "0    0.544747  0.693420  ...  0.202666  0.000002  0.649465  3.068984   \n",
       "1    0.547792  0.690567  ...  0.212661  0.000004  0.657304  3.105280   \n",
       "2    0.547431  0.691448  ...  0.342310  0.000006  0.656353  3.122153   \n",
       "3    0.548038  0.690934  ...  0.306131  0.000008  0.657192  3.123646   \n",
       "4    0.548441  0.690810  ...  0.479969  0.000010  0.657317  3.137843   \n",
       "..        ...       ...  ...       ...       ...       ...       ...   \n",
       "379  0.548617  0.788760  ...  0.329795  0.001062  0.722219  3.337527   \n",
       "380  0.552757  0.796161  ...  0.179033  0.000957  0.690909  3.334619   \n",
       "381  0.552840  0.788678  ...  0.182173  0.000864  0.694402  3.363317   \n",
       "382  0.555841  0.787155  ...  0.209458  0.000779  0.697666  3.374440   \n",
       "383  0.558799  0.789434  ...  0.176427  0.000702  0.695903  3.383806   \n",
       "\n",
       "         z500      v500      x501      y501      z501      v501  \n",
       "0   -0.164984  0.000032  0.470089  3.057953 -0.393611  0.000010  \n",
       "1   -0.169141  0.000038  0.474488  3.081895 -0.439254  0.000017  \n",
       "2   -0.082582  0.000042  0.473713  3.095768 -0.336436  0.000021  \n",
       "3   -0.100293  0.000048  0.475507  3.097245 -0.340493  0.000026  \n",
       "4    0.007543  0.000052  0.476645  3.116708 -0.191758  0.000030  \n",
       "..        ...       ...       ...       ...       ...       ...  \n",
       "379 -0.322938  0.001010  0.520622  3.337428 -0.350937  0.001136  \n",
       "380 -0.417070  0.000912  0.490363  3.328841 -0.557272  0.001024  \n",
       "381 -0.430986  0.000828  0.502896  3.358914 -0.529971  0.000930  \n",
       "382 -0.382142  0.000750  0.501688  3.366139 -0.519904  0.000841  \n",
       "383 -0.394095  0.000681  0.497355  3.373575 -0.536701  0.000762  \n",
       "\n",
       "[384 rows x 2004 columns]"
      ]
     },
     "execution_count": 136,
     "metadata": {},
     "output_type": "execute_result"
    }
   ],
   "source": [
    "x"
   ]
  },
  {
   "cell_type": "code",
   "execution_count": null,
   "id": "0554315b",
   "metadata": {},
   "outputs": [],
   "source": []
  },
  {
   "cell_type": "code",
   "execution_count": null,
   "id": "6a2da5d0",
   "metadata": {},
   "outputs": [],
   "source": []
  }
 ],
 "metadata": {
  "kernelspec": {
   "display_name": "ss",
   "language": "python",
   "name": "ss"
  },
  "language_info": {
   "codemirror_mode": {
    "name": "ipython",
    "version": 3
   },
   "file_extension": ".py",
   "mimetype": "text/x-python",
   "name": "python",
   "nbconvert_exporter": "python",
   "pygments_lexer": "ipython3",
   "version": "3.11.3"
  }
 },
 "nbformat": 4,
 "nbformat_minor": 5
}
